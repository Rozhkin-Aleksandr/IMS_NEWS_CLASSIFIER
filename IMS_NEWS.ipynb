{
 "cells": [
  {
   "cell_type": "code",
   "execution_count": 225,
   "id": "d212f1af-e30c-4c03-a318-b2c06735c235",
   "metadata": {},
   "outputs": [],
   "source": [
    "import torch.nn as nn\n",
    "import torch\n",
    "from sklearn.model_selection import train_test_split\n",
    "import pandas as pd\n",
    "import numpy as np\n",
    "import torch.nn.functional as F\n",
    "from sklearn.metrics import accuracy_score\n",
    "from torch.utils.data import DataLoader, TensorDataset, Dataset\n",
    "import matplotlib.pyplot as plt\n",
    "from sklearn.feature_extraction.text import TfidfVectorizer\n",
    "from catboost import CatBoostClassifier\n",
    "from tqdm.notebook import tqdm\n",
    "from transformers import AutoTokenizer, AutoModel\n",
    "import collections\n"
   ]
  },
  {
   "cell_type": "markdown",
   "id": "b7fc2ca0-de5a-4d7d-91cd-be6bb545bcf9",
   "metadata": {},
   "source": [
    "# Загрузка данных"
   ]
  },
  {
   "cell_type": "code",
   "execution_count": 182,
   "id": "f63c6a9b-52eb-4357-ba9b-f2206df1e5b1",
   "metadata": {},
   "outputs": [
    {
     "data": {
      "text/html": [
       "<div>\n",
       "<style scoped>\n",
       "    .dataframe tbody tr th:only-of-type {\n",
       "        vertical-align: middle;\n",
       "    }\n",
       "\n",
       "    .dataframe tbody tr th {\n",
       "        vertical-align: top;\n",
       "    }\n",
       "\n",
       "    .dataframe thead th {\n",
       "        text-align: right;\n",
       "    }\n",
       "</style>\n",
       "<table border=\"1\" class=\"dataframe\">\n",
       "  <thead>\n",
       "    <tr style=\"text-align: right;\">\n",
       "      <th></th>\n",
       "      <th>Unnamed: 0</th>\n",
       "      <th>headline</th>\n",
       "      <th>body</th>\n",
       "      <th>topic</th>\n",
       "    </tr>\n",
       "  </thead>\n",
       "  <tbody>\n",
       "    <tr>\n",
       "      <th>0</th>\n",
       "      <td>4069</td>\n",
       "      <td>Теперь подарки можно выбрать на сайте при помо...</td>\n",
       "      <td>поиск подарок любой праздник гораздо просто бл...</td>\n",
       "      <td>IT</td>\n",
       "    </tr>\n",
       "    <tr>\n",
       "      <th>1</th>\n",
       "      <td>1666</td>\n",
       "      <td>Тренды розничной торговли 2016</td>\n",
       "      <td>платформа соцсеть продолжать служить шопинг-пл...</td>\n",
       "      <td>IT</td>\n",
       "    </tr>\n",
       "    <tr>\n",
       "      <th>2</th>\n",
       "      <td>1802</td>\n",
       "      <td>Порталы сравнения цен вынуждают мелких ритейле...</td>\n",
       "      <td>последний время активно расти конкуренция обла...</td>\n",
       "      <td>IT</td>\n",
       "    </tr>\n",
       "    <tr>\n",
       "      <th>3</th>\n",
       "      <td>3784</td>\n",
       "      <td>9 беспроигрышных подарков для мужчины</td>\n",
       "      <td>каждый накануне февраль возникать сложный вопр...</td>\n",
       "      <td>IT</td>\n",
       "    </tr>\n",
       "    <tr>\n",
       "      <th>4</th>\n",
       "      <td>2186</td>\n",
       "      <td>Китайские производители сокращают свой бизнес ...</td>\n",
       "      <td>прекращать поставка новый автомобиль дилер рос...</td>\n",
       "      <td>Авто</td>\n",
       "    </tr>\n",
       "    <tr>\n",
       "      <th>...</th>\n",
       "      <td>...</td>\n",
       "      <td>...</td>\n",
       "      <td>...</td>\n",
       "      <td>...</td>\n",
       "    </tr>\n",
       "    <tr>\n",
       "      <th>56495</th>\n",
       "      <td>40141</td>\n",
       "      <td>Реформа госконтроля даст двухпроцентный рост ВВП</td>\n",
       "      <td>бизнес хотеть раз снижать количество регулятор...</td>\n",
       "      <td>Экономика</td>\n",
       "    </tr>\n",
       "    <tr>\n",
       "      <th>56496</th>\n",
       "      <td>51705</td>\n",
       "      <td>Минэк видит основания для улучшения суверенног...</td>\n",
       "      <td>ранее первый вице-премьер рф игорь шувалов отм...</td>\n",
       "      <td>Экономика</td>\n",
       "    </tr>\n",
       "    <tr>\n",
       "      <th>56497</th>\n",
       "      <td>15789</td>\n",
       "      <td>Стоимость нефти растет на фоне ослабления доллара</td>\n",
       "      <td>цена влиять ожидание итог референдум членство ...</td>\n",
       "      <td>Экономика</td>\n",
       "    </tr>\n",
       "    <tr>\n",
       "      <th>56498</th>\n",
       "      <td>5919</td>\n",
       "      <td>ЦБ: «Данные о потерях НПФ в размере 200 млрд р...</td>\n",
       "      <td>банк россия опровергать цифра вице-премьер оль...</td>\n",
       "      <td>Экономика</td>\n",
       "    </tr>\n",
       "    <tr>\n",
       "      <th>56499</th>\n",
       "      <td>16642</td>\n",
       "      <td>С «Мира» по нитке</td>\n",
       "      <td>национальный платежный система август запускат...</td>\n",
       "      <td>Экономика</td>\n",
       "    </tr>\n",
       "  </tbody>\n",
       "</table>\n",
       "<p>56500 rows × 4 columns</p>\n",
       "</div>"
      ],
      "text/plain": [
       "       Unnamed: 0                                           headline  \\\n",
       "0            4069  Теперь подарки можно выбрать на сайте при помо...   \n",
       "1            1666                     Тренды розничной торговли 2016   \n",
       "2            1802  Порталы сравнения цен вынуждают мелких ритейле...   \n",
       "3            3784              9 беспроигрышных подарков для мужчины   \n",
       "4            2186  Китайские производители сокращают свой бизнес ...   \n",
       "...           ...                                                ...   \n",
       "56495       40141   Реформа госконтроля даст двухпроцентный рост ВВП   \n",
       "56496       51705  Минэк видит основания для улучшения суверенног...   \n",
       "56497       15789  Стоимость нефти растет на фоне ослабления доллара   \n",
       "56498        5919  ЦБ: «Данные о потерях НПФ в размере 200 млрд р...   \n",
       "56499       16642                                  С «Мира» по нитке   \n",
       "\n",
       "                                                    body      topic  \n",
       "0      поиск подарок любой праздник гораздо просто бл...         IT  \n",
       "1      платформа соцсеть продолжать служить шопинг-пл...         IT  \n",
       "2      последний время активно расти конкуренция обла...         IT  \n",
       "3      каждый накануне февраль возникать сложный вопр...         IT  \n",
       "4      прекращать поставка новый автомобиль дилер рос...       Авто  \n",
       "...                                                  ...        ...  \n",
       "56495  бизнес хотеть раз снижать количество регулятор...  Экономика  \n",
       "56496  ранее первый вице-премьер рф игорь шувалов отм...  Экономика  \n",
       "56497  цена влиять ожидание итог референдум членство ...  Экономика  \n",
       "56498  банк россия опровергать цифра вице-премьер оль...  Экономика  \n",
       "56499  национальный платежный система август запускат...  Экономика  \n",
       "\n",
       "[56500 rows x 4 columns]"
      ]
     },
     "execution_count": 182,
     "metadata": {},
     "output_type": "execute_result"
    }
   ],
   "source": [
    "data = pd.read_csv(r'C:\\EMOJI\\articles_lemmatized_no_SW.csv')\n",
    "data"
   ]
  },
  {
   "cell_type": "markdown",
   "id": "3e4307ba-a3af-4e67-b1de-3299eebfc8ee",
   "metadata": {},
   "source": [
    "# Первичный анализ данных"
   ]
  },
  {
   "cell_type": "code",
   "execution_count": 183,
   "id": "9c108123-d49b-47bb-aa8d-bbd9e4145a62",
   "metadata": {},
   "outputs": [
    {
     "name": "stdout",
     "output_type": "stream",
     "text": [
      "<class 'pandas.core.frame.DataFrame'>\n",
      "RangeIndex: 56500 entries, 0 to 56499\n",
      "Data columns (total 4 columns):\n",
      " #   Column      Non-Null Count  Dtype \n",
      "---  ------      --------------  ----- \n",
      " 0   Unnamed: 0  56500 non-null  int64 \n",
      " 1   headline    56500 non-null  object\n",
      " 2   body        56499 non-null  object\n",
      " 3   topic       56500 non-null  object\n",
      "dtypes: int64(1), object(3)\n",
      "memory usage: 1.7+ MB\n"
     ]
    }
   ],
   "source": [
    "data.info()"
   ]
  },
  {
   "cell_type": "code",
   "execution_count": 184,
   "id": "30cd5f96-8308-4f9d-8124-d6ff162e9fa9",
   "metadata": {},
   "outputs": [],
   "source": [
    "data = data.dropna()# удаляем NaN"
   ]
  },
  {
   "cell_type": "code",
   "execution_count": 185,
   "id": "92824951-8ba9-42f7-bb15-0aaa10864861",
   "metadata": {},
   "outputs": [
    {
     "data": {
      "text/plain": [
       "topic\n",
       "Мир                                    15131\n",
       "Общество                               12147\n",
       "Политика                                7359\n",
       "Страна                                  5280\n",
       "Экономика                               5032\n",
       "Спорт                                   4881\n",
       "Культура                                2635\n",
       "Армия                                   1295\n",
       "Наука                                    824\n",
       "Гаджеты & Телеком                        583\n",
       "РИО-2016                                 449\n",
       "Авто                                     130\n",
       "Москва                                   118\n",
       "День в истории                           108\n",
       "Выборы в США                              96\n",
       "Выборы-2016                               92\n",
       "ПМЭФ                                      63\n",
       "День Победы                               62\n",
       "ЧЕ 2016                                   56\n",
       "Известия: подробности                     38\n",
       "Россия - регионы                          26\n",
       "Новости компаний                          17\n",
       "Финансы                                   10\n",
       "Транспорт                                  9\n",
       "Недвижимость                               7\n",
       "Технологическое предпринимательство        6\n",
       "Нефть и газ                                6\n",
       "Путешествуем по России                     5\n",
       "Промышленность                             5\n",
       "Образование                                5\n",
       "Знай наших                                 5\n",
       "Шопинг                                     5\n",
       "Инновации                                  4\n",
       "IT                                         4\n",
       "КНАУФ                                      2\n",
       "Формула лидерства                          2\n",
       "Деловая среда                              2\n",
       "Name: count, dtype: int64"
      ]
     },
     "execution_count": 185,
     "metadata": {},
     "output_type": "execute_result"
    }
   ],
   "source": [
    "data.topic.value_counts()#смотрим какие есть категории и сколько их"
   ]
  },
  {
   "cell_type": "code",
   "execution_count": 186,
   "id": "4330b063-d741-4a89-b7b6-26a1b8b71cb9",
   "metadata": {},
   "outputs": [
    {
     "data": {
      "text/plain": [
       "(array([5.4558e+04, 1.8450e+03, 7.0000e+01, 1.7000e+01, 4.0000e+00,\n",
       "        1.0000e+00, 2.0000e+00, 1.0000e+00, 0.0000e+00, 1.0000e+00]),\n",
       " array([9.00000e+00, 4.81760e+03, 9.62620e+03, 1.44348e+04, 1.92434e+04,\n",
       "        2.40520e+04, 2.88606e+04, 3.36692e+04, 3.84778e+04, 4.32864e+04,\n",
       "        4.80950e+04]),\n",
       " <BarContainer object of 10 artists>)"
      ]
     },
     "execution_count": 186,
     "metadata": {},
     "output_type": "execute_result"
    },
    {
     "data": {
      "image/png": "[encoded data removed]",
      "text/plain": [
       "<Figure size 640x480 with 1 Axes>"
      ]
     },
     "metadata": {},
     "output_type": "display_data"
    }
   ],
   "source": [
    "x = data.body \n",
    "xlen = [len(el) for el in x]# смотрим каких длин бывают новости\n",
    "plt.hist(xlen)\n"
   ]
  },
  {
   "cell_type": "code",
   "execution_count": 187,
   "id": "87879685-dadb-455a-a6a4-2708867610ab",
   "metadata": {},
   "outputs": [],
   "source": [
    "data = data[data['body'].apply(len)<=8000]# оставим только новости длиной не больше 8000 знаков\n"
   ]
  },
  {
   "cell_type": "code",
   "execution_count": 188,
   "id": "aebc6873-89eb-4564-80d0-2fa30bc3e47b",
   "metadata": {},
   "outputs": [
    {
     "data": {
      "text/html": [
       "<div>\n",
       "<style scoped>\n",
       "    .dataframe tbody tr th:only-of-type {\n",
       "        vertical-align: middle;\n",
       "    }\n",
       "\n",
       "    .dataframe tbody tr th {\n",
       "        vertical-align: top;\n",
       "    }\n",
       "\n",
       "    .dataframe thead th {\n",
       "        text-align: right;\n",
       "    }\n",
       "</style>\n",
       "<table border=\"1\" class=\"dataframe\">\n",
       "  <thead>\n",
       "    <tr style=\"text-align: right;\">\n",
       "      <th></th>\n",
       "      <th>Unnamed: 0</th>\n",
       "      <th>headline</th>\n",
       "      <th>body</th>\n",
       "      <th>topic</th>\n",
       "    </tr>\n",
       "  </thead>\n",
       "  <tbody>\n",
       "    <tr>\n",
       "      <th>0</th>\n",
       "      <td>4069</td>\n",
       "      <td>Теперь подарки можно выбрать на сайте при помо...</td>\n",
       "      <td>поиск подарок любой праздник гораздо просто бл...</td>\n",
       "      <td>IT</td>\n",
       "    </tr>\n",
       "    <tr>\n",
       "      <th>1</th>\n",
       "      <td>1666</td>\n",
       "      <td>Тренды розничной торговли 2016</td>\n",
       "      <td>платформа соцсеть продолжать служить шопинг-пл...</td>\n",
       "      <td>IT</td>\n",
       "    </tr>\n",
       "    <tr>\n",
       "      <th>2</th>\n",
       "      <td>1802</td>\n",
       "      <td>Порталы сравнения цен вынуждают мелких ритейле...</td>\n",
       "      <td>последний время активно расти конкуренция обла...</td>\n",
       "      <td>IT</td>\n",
       "    </tr>\n",
       "    <tr>\n",
       "      <th>3</th>\n",
       "      <td>3784</td>\n",
       "      <td>9 беспроигрышных подарков для мужчины</td>\n",
       "      <td>каждый накануне февраль возникать сложный вопр...</td>\n",
       "      <td>IT</td>\n",
       "    </tr>\n",
       "    <tr>\n",
       "      <th>4</th>\n",
       "      <td>2186</td>\n",
       "      <td>Китайские производители сокращают свой бизнес ...</td>\n",
       "      <td>прекращать поставка новый автомобиль дилер рос...</td>\n",
       "      <td>Авто</td>\n",
       "    </tr>\n",
       "    <tr>\n",
       "      <th>...</th>\n",
       "      <td>...</td>\n",
       "      <td>...</td>\n",
       "      <td>...</td>\n",
       "      <td>...</td>\n",
       "    </tr>\n",
       "    <tr>\n",
       "      <th>56495</th>\n",
       "      <td>40141</td>\n",
       "      <td>Реформа госконтроля даст двухпроцентный рост ВВП</td>\n",
       "      <td>бизнес хотеть раз снижать количество регулятор...</td>\n",
       "      <td>Экономика</td>\n",
       "    </tr>\n",
       "    <tr>\n",
       "      <th>56496</th>\n",
       "      <td>51705</td>\n",
       "      <td>Минэк видит основания для улучшения суверенног...</td>\n",
       "      <td>ранее первый вице-премьер рф игорь шувалов отм...</td>\n",
       "      <td>Экономика</td>\n",
       "    </tr>\n",
       "    <tr>\n",
       "      <th>56497</th>\n",
       "      <td>15789</td>\n",
       "      <td>Стоимость нефти растет на фоне ослабления доллара</td>\n",
       "      <td>цена влиять ожидание итог референдум членство ...</td>\n",
       "      <td>Экономика</td>\n",
       "    </tr>\n",
       "    <tr>\n",
       "      <th>56498</th>\n",
       "      <td>5919</td>\n",
       "      <td>ЦБ: «Данные о потерях НПФ в размере 200 млрд р...</td>\n",
       "      <td>банк россия опровергать цифра вице-премьер оль...</td>\n",
       "      <td>Экономика</td>\n",
       "    </tr>\n",
       "    <tr>\n",
       "      <th>56499</th>\n",
       "      <td>16642</td>\n",
       "      <td>С «Мира» по нитке</td>\n",
       "      <td>национальный платежный система август запускат...</td>\n",
       "      <td>Экономика</td>\n",
       "    </tr>\n",
       "  </tbody>\n",
       "</table>\n",
       "<p>56298 rows × 4 columns</p>\n",
       "</div>"
      ],
      "text/plain": [
       "       Unnamed: 0                                           headline  \\\n",
       "0            4069  Теперь подарки можно выбрать на сайте при помо...   \n",
       "1            1666                     Тренды розничной торговли 2016   \n",
       "2            1802  Порталы сравнения цен вынуждают мелких ритейле...   \n",
       "3            3784              9 беспроигрышных подарков для мужчины   \n",
       "4            2186  Китайские производители сокращают свой бизнес ...   \n",
       "...           ...                                                ...   \n",
       "56495       40141   Реформа госконтроля даст двухпроцентный рост ВВП   \n",
       "56496       51705  Минэк видит основания для улучшения суверенног...   \n",
       "56497       15789  Стоимость нефти растет на фоне ослабления доллара   \n",
       "56498        5919  ЦБ: «Данные о потерях НПФ в размере 200 млрд р...   \n",
       "56499       16642                                  С «Мира» по нитке   \n",
       "\n",
       "                                                    body      topic  \n",
       "0      поиск подарок любой праздник гораздо просто бл...         IT  \n",
       "1      платформа соцсеть продолжать служить шопинг-пл...         IT  \n",
       "2      последний время активно расти конкуренция обла...         IT  \n",
       "3      каждый накануне февраль возникать сложный вопр...         IT  \n",
       "4      прекращать поставка новый автомобиль дилер рос...       Авто  \n",
       "...                                                  ...        ...  \n",
       "56495  бизнес хотеть раз снижать количество регулятор...  Экономика  \n",
       "56496  ранее первый вице-премьер рф игорь шувалов отм...  Экономика  \n",
       "56497  цена влиять ожидание итог референдум членство ...  Экономика  \n",
       "56498  банк россия опровергать цифра вице-премьер оль...  Экономика  \n",
       "56499  национальный платежный система август запускат...  Экономика  \n",
       "\n",
       "[56298 rows x 4 columns]"
      ]
     },
     "execution_count": 188,
     "metadata": {},
     "output_type": "execute_result"
    }
   ],
   "source": [
    "data"
   ]
  },
  {
   "cell_type": "code",
   "execution_count": 189,
   "id": "240f1c0c-fb01-4a79-8561-f01559daa818",
   "metadata": {},
   "outputs": [],
   "source": [
    "y = pd.get_dummies(data.topic)# кодируем с помощью One-Hot таргет"
   ]
  },
  {
   "cell_type": "code",
   "execution_count": 190,
   "id": "5f4e644b-0c42-46d9-a16c-10c6e2747b70",
   "metadata": {},
   "outputs": [
    {
     "data": {
      "text/plain": [
       "(56298, 37)"
      ]
     },
     "execution_count": 190,
     "metadata": {},
     "output_type": "execute_result"
    }
   ],
   "source": [
    "y.shape"
   ]
  },
  {
   "cell_type": "code",
   "execution_count": 191,
   "id": "cbf502c1-d95b-4fdc-b56b-63e0dfefb99d",
   "metadata": {},
   "outputs": [],
   "source": [
    "x = data.body # для обучения будем использовать только текст новостей"
   ]
  },
  {
   "cell_type": "markdown",
   "id": "887c13ca-da2d-4243-8d5d-8a13ed26f6bd",
   "metadata": {},
   "source": [
    "# Подход 1\n",
    "## TfIdf + CatBoost"
   ]
  },
  {
   "cell_type": "code",
   "execution_count": 217,
   "id": "d00faa02-9ba2-4277-b3a6-cee8d02911a9",
   "metadata": {},
   "outputs": [],
   "source": [
    "tok = TfidfVectorizer(max_features=20000)# токенизируем и векторизируем предложения\n",
    "tok.fit(x)\n",
    "X = tok.transform(x)"
   ]
  },
  {
   "cell_type": "code",
   "execution_count": 218,
   "id": "df1b9cf0-2fdf-4e52-9f75-3563c072f968",
   "metadata": {},
   "outputs": [
    {
     "data": {
      "text/plain": [
       "(56298, 20000)"
      ]
     },
     "execution_count": 218,
     "metadata": {},
     "output_type": "execute_result"
    }
   ],
   "source": [
    "X.shape"
   ]
  },
  {
   "cell_type": "code",
   "execution_count": 219,
   "id": "cc91c019-aa46-4dd0-832f-5de84ec28b31",
   "metadata": {},
   "outputs": [],
   "source": [
    "x_train, x_test, y_train, y_test = train_test_split(X,data.topic, test_size=0.2)"
   ]
  },
  {
   "cell_type": "code",
   "execution_count": 222,
   "id": "935a2d5f-d9af-4c76-bc77-033a88da43e9",
   "metadata": {
    "scrolled": true
   },
   "outputs": [
    {
     "name": "stdout",
     "output_type": "stream",
     "text": [
      "0:\tlearn: 3.1440488\ttotal: 3.67s\tremaining: 30m 31s\n",
      "1:\tlearn: 2.9344322\ttotal: 7.23s\tremaining: 30m\n",
      "2:\tlearn: 2.7881452\ttotal: 10.8s\tremaining: 29m 42s\n",
      "3:\tlearn: 2.6647413\ttotal: 14.1s\tremaining: 29m 11s\n",
      "4:\tlearn: 2.5681440\ttotal: 17.5s\tremaining: 28m 51s\n",
      "5:\tlearn: 2.4698332\ttotal: 20.9s\tremaining: 28m 38s\n",
      "6:\tlearn: 2.3925513\ttotal: 24.3s\tremaining: 28m 31s\n",
      "7:\tlearn: 2.3272426\ttotal: 27.8s\tremaining: 28m 32s\n",
      "8:\tlearn: 2.2722098\ttotal: 31.3s\tremaining: 28m 30s\n",
      "9:\tlearn: 2.2194777\ttotal: 34.8s\tremaining: 28m 26s\n",
      "10:\tlearn: 2.1694319\ttotal: 38.3s\tremaining: 28m 22s\n",
      "11:\tlearn: 2.1234270\ttotal: 41.8s\tremaining: 28m 18s\n",
      "12:\tlearn: 2.0787782\ttotal: 45.2s\tremaining: 28m 14s\n",
      "13:\tlearn: 2.0415030\ttotal: 48.6s\tremaining: 28m 8s\n",
      "14:\tlearn: 2.0036951\ttotal: 52s\tremaining: 28m 2s\n",
      "15:\tlearn: 1.9724143\ttotal: 55.5s\tremaining: 27m 58s\n",
      "16:\tlearn: 1.9402021\ttotal: 58.9s\tremaining: 27m 52s\n",
      "17:\tlearn: 1.9093623\ttotal: 1m 2s\tremaining: 27m 49s\n",
      "18:\tlearn: 1.8803425\ttotal: 1m 5s\tremaining: 27m 45s\n",
      "19:\tlearn: 1.8559952\ttotal: 1m 9s\tremaining: 27m 40s\n",
      "20:\tlearn: 1.8312110\ttotal: 1m 12s\tremaining: 27m 35s\n",
      "21:\tlearn: 1.8049971\ttotal: 1m 16s\tremaining: 27m 46s\n",
      "22:\tlearn: 1.7836304\ttotal: 1m 20s\tremaining: 27m 41s\n",
      "23:\tlearn: 1.7629779\ttotal: 1m 23s\tremaining: 27m 37s\n",
      "24:\tlearn: 1.7451225\ttotal: 1m 26s\tremaining: 27m 32s\n",
      "25:\tlearn: 1.7263287\ttotal: 1m 30s\tremaining: 27m 28s\n",
      "26:\tlearn: 1.7076058\ttotal: 1m 34s\tremaining: 27m 35s\n",
      "27:\tlearn: 1.6912114\ttotal: 1m 37s\tremaining: 27m 30s\n",
      "28:\tlearn: 1.6766491\ttotal: 1m 41s\tremaining: 27m 26s\n",
      "29:\tlearn: 1.6627632\ttotal: 1m 44s\tremaining: 27m 21s\n",
      "30:\tlearn: 1.6488997\ttotal: 1m 48s\tremaining: 27m 18s\n",
      "31:\tlearn: 1.6328514\ttotal: 1m 51s\tremaining: 27m 15s\n",
      "32:\tlearn: 1.6188361\ttotal: 1m 55s\tremaining: 27m 17s\n",
      "33:\tlearn: 1.6072070\ttotal: 1m 59s\tremaining: 27m 13s\n",
      "34:\tlearn: 1.5922785\ttotal: 2m 2s\tremaining: 27m 9s\n",
      "35:\tlearn: 1.5815238\ttotal: 2m 6s\tremaining: 27m 4s\n",
      "36:\tlearn: 1.5710182\ttotal: 2m 9s\tremaining: 27m 3s\n",
      "37:\tlearn: 1.5608632\ttotal: 2m 13s\tremaining: 26m 59s\n",
      "38:\tlearn: 1.5508992\ttotal: 2m 17s\tremaining: 27m 2s\n",
      "39:\tlearn: 1.5421936\ttotal: 2m 21s\tremaining: 27m 1s\n",
      "40:\tlearn: 1.5302103\ttotal: 2m 24s\tremaining: 26m 59s\n",
      "41:\tlearn: 1.5221252\ttotal: 2m 28s\tremaining: 26m 54s\n",
      "42:\tlearn: 1.5126993\ttotal: 2m 31s\tremaining: 26m 50s\n",
      "43:\tlearn: 1.5055452\ttotal: 2m 34s\tremaining: 26m 46s\n",
      "44:\tlearn: 1.4982272\ttotal: 2m 38s\tremaining: 26m 41s\n",
      "45:\tlearn: 1.4912303\ttotal: 2m 41s\tremaining: 26m 37s\n",
      "46:\tlearn: 1.4840852\ttotal: 2m 45s\tremaining: 26m 32s\n",
      "47:\tlearn: 1.4775320\ttotal: 2m 48s\tremaining: 26m 29s\n",
      "48:\tlearn: 1.4716415\ttotal: 2m 52s\tremaining: 26m 25s\n",
      "49:\tlearn: 1.4655896\ttotal: 2m 55s\tremaining: 26m 21s\n",
      "50:\tlearn: 1.4599470\ttotal: 2m 59s\tremaining: 26m 17s\n",
      "51:\tlearn: 1.4521177\ttotal: 3m 2s\tremaining: 26m 13s\n",
      "52:\tlearn: 1.4466104\ttotal: 3m 6s\tremaining: 26m 14s\n",
      "53:\tlearn: 1.4365181\ttotal: 3m 10s\tremaining: 26m 10s\n",
      "54:\tlearn: 1.4310756\ttotal: 3m 13s\tremaining: 26m 7s\n",
      "55:\tlearn: 1.4253444\ttotal: 3m 17s\tremaining: 26m 3s\n",
      "56:\tlearn: 1.4213929\ttotal: 3m 20s\tremaining: 25m 58s\n",
      "57:\tlearn: 1.4164075\ttotal: 3m 24s\tremaining: 25m 55s\n",
      "58:\tlearn: 1.4120122\ttotal: 3m 27s\tremaining: 25m 51s\n",
      "59:\tlearn: 1.4072581\ttotal: 3m 31s\tremaining: 25m 47s\n",
      "60:\tlearn: 1.4021541\ttotal: 3m 34s\tremaining: 25m 43s\n",
      "61:\tlearn: 1.3965751\ttotal: 3m 37s\tremaining: 25m 39s\n",
      "62:\tlearn: 1.3904012\ttotal: 3m 41s\tremaining: 25m 35s\n",
      "63:\tlearn: 1.3864271\ttotal: 3m 44s\tremaining: 25m 31s\n",
      "64:\tlearn: 1.3812838\ttotal: 3m 48s\tremaining: 25m 28s\n",
      "65:\tlearn: 1.3769555\ttotal: 3m 52s\tremaining: 25m 26s\n",
      "66:\tlearn: 1.3731444\ttotal: 3m 55s\tremaining: 25m 22s\n",
      "67:\tlearn: 1.3686472\ttotal: 3m 59s\tremaining: 25m 21s\n",
      "68:\tlearn: 1.3653213\ttotal: 4m 3s\tremaining: 25m 17s\n",
      "69:\tlearn: 1.3606015\ttotal: 4m 6s\tremaining: 25m 13s\n",
      "70:\tlearn: 1.3564219\ttotal: 4m 9s\tremaining: 25m 9s\n",
      "71:\tlearn: 1.3530883\ttotal: 4m 13s\tremaining: 25m 5s\n",
      "72:\tlearn: 1.3489363\ttotal: 4m 16s\tremaining: 25m 1s\n",
      "73:\tlearn: 1.3456961\ttotal: 4m 20s\tremaining: 24m 58s\n",
      "74:\tlearn: 1.3419565\ttotal: 4m 23s\tremaining: 24m 55s\n",
      "75:\tlearn: 1.3391294\ttotal: 4m 27s\tremaining: 24m 51s\n",
      "76:\tlearn: 1.3355167\ttotal: 4m 30s\tremaining: 24m 47s\n",
      "77:\tlearn: 1.3329284\ttotal: 4m 34s\tremaining: 24m 43s\n",
      "78:\tlearn: 1.3290629\ttotal: 4m 37s\tremaining: 24m 39s\n",
      "79:\tlearn: 1.3264766\ttotal: 4m 41s\tremaining: 24m 35s\n",
      "80:\tlearn: 1.3230566\ttotal: 4m 44s\tremaining: 24m 31s\n",
      "81:\tlearn: 1.3206292\ttotal: 4m 47s\tremaining: 24m 27s\n",
      "82:\tlearn: 1.3185346\ttotal: 4m 51s\tremaining: 24m 23s\n",
      "83:\tlearn: 1.3160051\ttotal: 4m 54s\tremaining: 24m 20s\n",
      "84:\tlearn: 1.3112990\ttotal: 4m 58s\tremaining: 24m 16s\n",
      "85:\tlearn: 1.3081980\ttotal: 5m 1s\tremaining: 24m 12s\n",
      "86:\tlearn: 1.3055818\ttotal: 5m 5s\tremaining: 24m 8s\n",
      "87:\tlearn: 1.3032781\ttotal: 5m 8s\tremaining: 24m 4s\n",
      "88:\tlearn: 1.3013292\ttotal: 5m 12s\tremaining: 24m\n",
      "89:\tlearn: 1.2981862\ttotal: 5m 15s\tremaining: 23m 57s\n",
      "90:\tlearn: 1.2958823\ttotal: 5m 19s\tremaining: 23m 54s\n",
      "91:\tlearn: 1.2929981\ttotal: 5m 22s\tremaining: 23m 50s\n",
      "92:\tlearn: 1.2908868\ttotal: 5m 25s\tremaining: 23m 46s\n",
      "93:\tlearn: 1.2875460\ttotal: 5m 29s\tremaining: 23m 43s\n",
      "94:\tlearn: 1.2843953\ttotal: 5m 33s\tremaining: 23m 40s\n",
      "95:\tlearn: 1.2823322\ttotal: 5m 36s\tremaining: 23m 36s\n",
      "96:\tlearn: 1.2793401\ttotal: 5m 40s\tremaining: 23m 34s\n",
      "97:\tlearn: 1.2755490\ttotal: 5m 43s\tremaining: 23m 30s\n",
      "98:\tlearn: 1.2735033\ttotal: 5m 47s\tremaining: 23m 26s\n",
      "99:\tlearn: 1.2718523\ttotal: 5m 50s\tremaining: 23m 22s\n",
      "100:\tlearn: 1.2689520\ttotal: 5m 54s\tremaining: 23m 19s\n",
      "101:\tlearn: 1.2664893\ttotal: 5m 57s\tremaining: 23m 15s\n",
      "102:\tlearn: 1.2641597\ttotal: 6m 1s\tremaining: 23m 11s\n",
      "103:\tlearn: 1.2624037\ttotal: 6m 4s\tremaining: 23m 7s\n",
      "104:\tlearn: 1.2604950\ttotal: 6m 7s\tremaining: 23m 4s\n",
      "105:\tlearn: 1.2581017\ttotal: 6m 11s\tremaining: 23m\n",
      "106:\tlearn: 1.2560933\ttotal: 6m 14s\tremaining: 22m 56s\n",
      "107:\tlearn: 1.2544992\ttotal: 6m 18s\tremaining: 22m 52s\n",
      "108:\tlearn: 1.2519216\ttotal: 6m 22s\tremaining: 22m 50s\n",
      "109:\tlearn: 1.2503745\ttotal: 6m 25s\tremaining: 22m 47s\n",
      "110:\tlearn: 1.2485411\ttotal: 6m 29s\tremaining: 22m 43s\n",
      "111:\tlearn: 1.2465692\ttotal: 6m 32s\tremaining: 22m 40s\n",
      "112:\tlearn: 1.2449343\ttotal: 6m 36s\tremaining: 22m 36s\n",
      "113:\tlearn: 1.2436048\ttotal: 6m 39s\tremaining: 22m 32s\n",
      "114:\tlearn: 1.2412071\ttotal: 6m 42s\tremaining: 22m 29s\n",
      "115:\tlearn: 1.2394074\ttotal: 6m 46s\tremaining: 22m 26s\n",
      "116:\tlearn: 1.2362502\ttotal: 6m 50s\tremaining: 22m 22s\n",
      "117:\tlearn: 1.2348724\ttotal: 6m 53s\tremaining: 22m 18s\n",
      "118:\tlearn: 1.2333758\ttotal: 6m 57s\tremaining: 22m 15s\n",
      "119:\tlearn: 1.2302261\ttotal: 7m\tremaining: 22m 11s\n",
      "120:\tlearn: 1.2286834\ttotal: 7m 3s\tremaining: 22m 7s\n",
      "121:\tlearn: 1.2263878\ttotal: 7m 7s\tremaining: 22m 5s\n",
      "122:\tlearn: 1.2250090\ttotal: 7m 11s\tremaining: 22m 1s\n",
      "123:\tlearn: 1.2221449\ttotal: 7m 14s\tremaining: 21m 58s\n",
      "124:\tlearn: 1.2199976\ttotal: 7m 18s\tremaining: 21m 54s\n",
      "125:\tlearn: 1.2174876\ttotal: 7m 21s\tremaining: 21m 50s\n",
      "126:\tlearn: 1.2159686\ttotal: 7m 25s\tremaining: 21m 47s\n",
      "127:\tlearn: 1.2140970\ttotal: 7m 28s\tremaining: 21m 43s\n",
      "128:\tlearn: 1.2124163\ttotal: 7m 31s\tremaining: 21m 39s\n",
      "129:\tlearn: 1.2110569\ttotal: 7m 35s\tremaining: 21m 36s\n",
      "130:\tlearn: 1.2098084\ttotal: 7m 38s\tremaining: 21m 32s\n",
      "131:\tlearn: 1.2070750\ttotal: 7m 42s\tremaining: 21m 28s\n",
      "132:\tlearn: 1.2044773\ttotal: 7m 45s\tremaining: 21m 25s\n",
      "133:\tlearn: 1.2024377\ttotal: 7m 49s\tremaining: 21m 21s\n",
      "134:\tlearn: 1.2010833\ttotal: 7m 52s\tremaining: 21m 17s\n",
      "135:\tlearn: 1.1972365\ttotal: 7m 56s\tremaining: 21m 14s\n",
      "136:\tlearn: 1.1951506\ttotal: 7m 59s\tremaining: 21m 10s\n",
      "137:\tlearn: 1.1928214\ttotal: 8m 2s\tremaining: 21m 6s\n",
      "138:\tlearn: 1.1910778\ttotal: 8m 6s\tremaining: 21m 3s\n",
      "139:\tlearn: 1.1884622\ttotal: 8m 9s\tremaining: 20m 59s\n",
      "140:\tlearn: 1.1870346\ttotal: 8m 13s\tremaining: 20m 56s\n",
      "141:\tlearn: 1.1859184\ttotal: 8m 16s\tremaining: 20m 52s\n",
      "142:\tlearn: 1.1847120\ttotal: 8m 20s\tremaining: 20m 48s\n",
      "143:\tlearn: 1.1832912\ttotal: 8m 23s\tremaining: 20m 45s\n",
      "144:\tlearn: 1.1816239\ttotal: 8m 27s\tremaining: 20m 41s\n",
      "145:\tlearn: 1.1800552\ttotal: 8m 30s\tremaining: 20m 37s\n",
      "146:\tlearn: 1.1788336\ttotal: 8m 33s\tremaining: 20m 34s\n",
      "147:\tlearn: 1.1765548\ttotal: 8m 37s\tremaining: 20m 30s\n",
      "148:\tlearn: 1.1739774\ttotal: 8m 40s\tremaining: 20m 26s\n",
      "149:\tlearn: 1.1725985\ttotal: 8m 44s\tremaining: 20m 23s\n",
      "150:\tlearn: 1.1709839\ttotal: 8m 47s\tremaining: 20m 19s\n",
      "151:\tlearn: 1.1695571\ttotal: 8m 51s\tremaining: 20m 16s\n",
      "152:\tlearn: 1.1685526\ttotal: 8m 54s\tremaining: 20m 12s\n",
      "153:\tlearn: 1.1671890\ttotal: 8m 57s\tremaining: 20m 8s\n",
      "154:\tlearn: 1.1661609\ttotal: 9m 1s\tremaining: 20m 5s\n",
      "155:\tlearn: 1.1647521\ttotal: 9m 4s\tremaining: 20m 1s\n",
      "156:\tlearn: 1.1635545\ttotal: 9m 8s\tremaining: 19m 57s\n",
      "157:\tlearn: 1.1609600\ttotal: 9m 11s\tremaining: 19m 54s\n",
      "158:\tlearn: 1.1600860\ttotal: 9m 15s\tremaining: 19m 50s\n",
      "159:\tlearn: 1.1583728\ttotal: 9m 18s\tremaining: 19m 47s\n",
      "160:\tlearn: 1.1567297\ttotal: 9m 22s\tremaining: 19m 43s\n",
      "161:\tlearn: 1.1542112\ttotal: 9m 25s\tremaining: 19m 39s\n",
      "162:\tlearn: 1.1526354\ttotal: 9m 28s\tremaining: 19m 36s\n",
      "163:\tlearn: 1.1513391\ttotal: 9m 32s\tremaining: 19m 32s\n",
      "164:\tlearn: 1.1498450\ttotal: 9m 35s\tremaining: 19m 29s\n",
      "165:\tlearn: 1.1480987\ttotal: 9m 39s\tremaining: 19m 25s\n",
      "166:\tlearn: 1.1469327\ttotal: 9m 42s\tremaining: 19m 21s\n",
      "167:\tlearn: 1.1449089\ttotal: 9m 46s\tremaining: 19m 18s\n",
      "168:\tlearn: 1.1435058\ttotal: 9m 49s\tremaining: 19m 14s\n",
      "169:\tlearn: 1.1425660\ttotal: 9m 53s\tremaining: 19m 11s\n",
      "170:\tlearn: 1.1400632\ttotal: 9m 56s\tremaining: 19m 7s\n",
      "171:\tlearn: 1.1383888\ttotal: 10m\tremaining: 19m 4s\n",
      "172:\tlearn: 1.1369387\ttotal: 10m 3s\tremaining: 19m\n",
      "173:\tlearn: 1.1359180\ttotal: 10m 6s\tremaining: 18m 57s\n",
      "174:\tlearn: 1.1339628\ttotal: 10m 10s\tremaining: 18m 54s\n",
      "175:\tlearn: 1.1327905\ttotal: 10m 14s\tremaining: 18m 50s\n",
      "176:\tlearn: 1.1317821\ttotal: 10m 17s\tremaining: 18m 47s\n",
      "177:\tlearn: 1.1309013\ttotal: 10m 21s\tremaining: 18m 43s\n",
      "178:\tlearn: 1.1299109\ttotal: 10m 24s\tremaining: 18m 39s\n",
      "179:\tlearn: 1.1287187\ttotal: 10m 28s\tremaining: 18m 36s\n",
      "180:\tlearn: 1.1270079\ttotal: 10m 31s\tremaining: 18m 32s\n",
      "181:\tlearn: 1.1260172\ttotal: 10m 34s\tremaining: 18m 29s\n",
      "182:\tlearn: 1.1249518\ttotal: 10m 38s\tremaining: 18m 25s\n",
      "183:\tlearn: 1.1231306\ttotal: 10m 41s\tremaining: 18m 22s\n",
      "184:\tlearn: 1.1213342\ttotal: 10m 45s\tremaining: 18m 18s\n",
      "185:\tlearn: 1.1196805\ttotal: 10m 49s\tremaining: 18m 16s\n",
      "186:\tlearn: 1.1185730\ttotal: 10m 52s\tremaining: 18m 12s\n",
      "187:\tlearn: 1.1170184\ttotal: 10m 56s\tremaining: 18m 8s\n",
      "188:\tlearn: 1.1159628\ttotal: 10m 59s\tremaining: 18m 5s\n",
      "189:\tlearn: 1.1149966\ttotal: 11m 3s\tremaining: 18m 1s\n",
      "190:\tlearn: 1.1123625\ttotal: 11m 6s\tremaining: 17m 59s\n",
      "191:\tlearn: 1.1107023\ttotal: 11m 10s\tremaining: 17m 55s\n",
      "192:\tlearn: 1.1094550\ttotal: 11m 14s\tremaining: 17m 52s\n",
      "193:\tlearn: 1.1083533\ttotal: 11m 17s\tremaining: 17m 48s\n",
      "194:\tlearn: 1.1061021\ttotal: 11m 21s\tremaining: 17m 45s\n",
      "195:\tlearn: 1.1048426\ttotal: 11m 24s\tremaining: 17m 41s\n",
      "196:\tlearn: 1.1035211\ttotal: 11m 28s\tremaining: 17m 38s\n",
      "197:\tlearn: 1.1019398\ttotal: 11m 31s\tremaining: 17m 34s\n",
      "198:\tlearn: 1.1011079\ttotal: 11m 34s\tremaining: 17m 31s\n",
      "199:\tlearn: 1.0987594\ttotal: 11m 38s\tremaining: 17m 28s\n",
      "200:\tlearn: 1.0976099\ttotal: 11m 42s\tremaining: 17m 24s\n",
      "201:\tlearn: 1.0964425\ttotal: 11m 45s\tremaining: 17m 21s\n",
      "202:\tlearn: 1.0954566\ttotal: 11m 49s\tremaining: 17m 17s\n",
      "203:\tlearn: 1.0943316\ttotal: 11m 52s\tremaining: 17m 14s\n",
      "204:\tlearn: 1.0929786\ttotal: 11m 56s\tremaining: 17m 10s\n",
      "205:\tlearn: 1.0907798\ttotal: 12m\tremaining: 17m 7s\n",
      "206:\tlearn: 1.0894024\ttotal: 12m 3s\tremaining: 17m 4s\n",
      "207:\tlearn: 1.0882026\ttotal: 12m 6s\tremaining: 17m\n",
      "208:\tlearn: 1.0872350\ttotal: 12m 10s\tremaining: 16m 56s\n",
      "209:\tlearn: 1.0862374\ttotal: 12m 13s\tremaining: 16m 53s\n",
      "210:\tlearn: 1.0857155\ttotal: 12m 17s\tremaining: 16m 49s\n",
      "211:\tlearn: 1.0847323\ttotal: 12m 20s\tremaining: 16m 46s\n",
      "212:\tlearn: 1.0838188\ttotal: 12m 24s\tremaining: 16m 42s\n",
      "213:\tlearn: 1.0829729\ttotal: 12m 27s\tremaining: 16m 39s\n",
      "214:\tlearn: 1.0818703\ttotal: 12m 30s\tremaining: 16m 35s\n",
      "215:\tlearn: 1.0812092\ttotal: 12m 34s\tremaining: 16m 31s\n",
      "216:\tlearn: 1.0805405\ttotal: 12m 37s\tremaining: 16m 28s\n",
      "217:\tlearn: 1.0793551\ttotal: 12m 41s\tremaining: 16m 24s\n",
      "218:\tlearn: 1.0783491\ttotal: 12m 44s\tremaining: 16m 21s\n",
      "219:\tlearn: 1.0776671\ttotal: 12m 48s\tremaining: 16m 17s\n",
      "220:\tlearn: 1.0764729\ttotal: 12m 51s\tremaining: 16m 14s\n",
      "221:\tlearn: 1.0754431\ttotal: 12m 55s\tremaining: 16m 10s\n",
      "222:\tlearn: 1.0745048\ttotal: 12m 58s\tremaining: 16m 6s\n",
      "223:\tlearn: 1.0738204\ttotal: 13m 1s\tremaining: 16m 3s\n",
      "224:\tlearn: 1.0727331\ttotal: 13m 5s\tremaining: 15m 59s\n",
      "225:\tlearn: 1.0721002\ttotal: 13m 8s\tremaining: 15m 56s\n",
      "226:\tlearn: 1.0711782\ttotal: 13m 12s\tremaining: 15m 52s\n",
      "227:\tlearn: 1.0697979\ttotal: 13m 15s\tremaining: 15m 49s\n",
      "228:\tlearn: 1.0685580\ttotal: 13m 19s\tremaining: 15m 45s\n",
      "229:\tlearn: 1.0675924\ttotal: 13m 22s\tremaining: 15m 41s\n",
      "230:\tlearn: 1.0665872\ttotal: 13m 25s\tremaining: 15m 38s\n",
      "231:\tlearn: 1.0657730\ttotal: 13m 29s\tremaining: 15m 34s\n",
      "232:\tlearn: 1.0646638\ttotal: 13m 32s\tremaining: 15m 31s\n",
      "233:\tlearn: 1.0633285\ttotal: 13m 36s\tremaining: 15m 27s\n",
      "234:\tlearn: 1.0620959\ttotal: 13m 39s\tremaining: 15m 24s\n",
      "235:\tlearn: 1.0607761\ttotal: 13m 43s\tremaining: 15m 20s\n",
      "236:\tlearn: 1.0596808\ttotal: 13m 46s\tremaining: 15m 17s\n",
      "237:\tlearn: 1.0587744\ttotal: 13m 49s\tremaining: 15m 13s\n",
      "238:\tlearn: 1.0579002\ttotal: 13m 53s\tremaining: 15m 10s\n",
      "239:\tlearn: 1.0570047\ttotal: 13m 56s\tremaining: 15m 6s\n",
      "240:\tlearn: 1.0559971\ttotal: 14m\tremaining: 15m 3s\n",
      "241:\tlearn: 1.0549980\ttotal: 14m 3s\tremaining: 14m 59s\n",
      "242:\tlearn: 1.0537389\ttotal: 14m 7s\tremaining: 14m 55s\n",
      "243:\tlearn: 1.0528129\ttotal: 14m 10s\tremaining: 14m 52s\n",
      "244:\tlearn: 1.0521981\ttotal: 14m 14s\tremaining: 14m 48s\n",
      "245:\tlearn: 1.0516823\ttotal: 14m 17s\tremaining: 14m 45s\n",
      "246:\tlearn: 1.0506857\ttotal: 14m 20s\tremaining: 14m 41s\n",
      "247:\tlearn: 1.0500742\ttotal: 14m 24s\tremaining: 14m 38s\n",
      "248:\tlearn: 1.0493019\ttotal: 14m 27s\tremaining: 14m 34s\n",
      "249:\tlearn: 1.0485136\ttotal: 14m 31s\tremaining: 14m 31s\n",
      "250:\tlearn: 1.0477910\ttotal: 14m 34s\tremaining: 14m 27s\n",
      "251:\tlearn: 1.0463164\ttotal: 14m 38s\tremaining: 14m 24s\n",
      "252:\tlearn: 1.0456226\ttotal: 14m 41s\tremaining: 14m 20s\n",
      "253:\tlearn: 1.0447203\ttotal: 14m 45s\tremaining: 14m 17s\n",
      "254:\tlearn: 1.0438314\ttotal: 14m 48s\tremaining: 14m 13s\n",
      "255:\tlearn: 1.0431639\ttotal: 14m 51s\tremaining: 14m 10s\n",
      "256:\tlearn: 1.0423122\ttotal: 14m 55s\tremaining: 14m 6s\n",
      "257:\tlearn: 1.0417975\ttotal: 14m 58s\tremaining: 14m 3s\n",
      "258:\tlearn: 1.0409190\ttotal: 15m 2s\tremaining: 13m 59s\n",
      "259:\tlearn: 1.0402006\ttotal: 15m 5s\tremaining: 13m 56s\n",
      "260:\tlearn: 1.0396061\ttotal: 15m 9s\tremaining: 13m 52s\n",
      "261:\tlearn: 1.0391123\ttotal: 15m 12s\tremaining: 13m 49s\n",
      "262:\tlearn: 1.0382281\ttotal: 15m 16s\tremaining: 13m 45s\n",
      "263:\tlearn: 1.0371015\ttotal: 15m 19s\tremaining: 13m 41s\n",
      "264:\tlearn: 1.0365380\ttotal: 15m 22s\tremaining: 13m 38s\n",
      "265:\tlearn: 1.0350168\ttotal: 15m 26s\tremaining: 13m 34s\n",
      "266:\tlearn: 1.0344175\ttotal: 15m 29s\tremaining: 13m 31s\n",
      "267:\tlearn: 1.0336933\ttotal: 15m 33s\tremaining: 13m 27s\n",
      "268:\tlearn: 1.0327978\ttotal: 15m 36s\tremaining: 13m 24s\n",
      "269:\tlearn: 1.0320016\ttotal: 15m 40s\tremaining: 13m 20s\n",
      "270:\tlearn: 1.0310691\ttotal: 15m 43s\tremaining: 13m 17s\n",
      "271:\tlearn: 1.0299606\ttotal: 15m 47s\tremaining: 13m 13s\n",
      "272:\tlearn: 1.0292103\ttotal: 15m 50s\tremaining: 13m 10s\n",
      "273:\tlearn: 1.0283884\ttotal: 15m 53s\tremaining: 13m 6s\n",
      "274:\tlearn: 1.0276249\ttotal: 15m 57s\tremaining: 13m 3s\n",
      "275:\tlearn: 1.0266190\ttotal: 16m\tremaining: 12m 59s\n",
      "276:\tlearn: 1.0256333\ttotal: 16m 4s\tremaining: 12m 56s\n",
      "277:\tlearn: 1.0230617\ttotal: 16m 7s\tremaining: 12m 52s\n",
      "278:\tlearn: 1.0220109\ttotal: 16m 11s\tremaining: 12m 49s\n",
      "279:\tlearn: 1.0215819\ttotal: 16m 14s\tremaining: 12m 45s\n",
      "280:\tlearn: 1.0208440\ttotal: 16m 17s\tremaining: 12m 42s\n",
      "281:\tlearn: 1.0202802\ttotal: 16m 21s\tremaining: 12m 38s\n",
      "282:\tlearn: 1.0196092\ttotal: 16m 24s\tremaining: 12m 35s\n",
      "283:\tlearn: 1.0189736\ttotal: 16m 28s\tremaining: 12m 31s\n",
      "284:\tlearn: 1.0180709\ttotal: 16m 31s\tremaining: 12m 28s\n",
      "285:\tlearn: 1.0172294\ttotal: 16m 35s\tremaining: 12m 24s\n",
      "286:\tlearn: 1.0164656\ttotal: 16m 38s\tremaining: 12m 21s\n",
      "287:\tlearn: 1.0153327\ttotal: 16m 41s\tremaining: 12m 17s\n",
      "288:\tlearn: 1.0143108\ttotal: 16m 45s\tremaining: 12m 14s\n",
      "289:\tlearn: 1.0135530\ttotal: 16m 48s\tremaining: 12m 10s\n",
      "290:\tlearn: 1.0129983\ttotal: 16m 52s\tremaining: 12m 7s\n",
      "291:\tlearn: 1.0117372\ttotal: 16m 55s\tremaining: 12m 3s\n",
      "292:\tlearn: 1.0106849\ttotal: 16m 59s\tremaining: 11m 59s\n",
      "293:\tlearn: 1.0098967\ttotal: 17m 2s\tremaining: 11m 56s\n",
      "294:\tlearn: 1.0087003\ttotal: 17m 5s\tremaining: 11m 52s\n",
      "295:\tlearn: 1.0076744\ttotal: 17m 9s\tremaining: 11m 49s\n",
      "296:\tlearn: 1.0072566\ttotal: 17m 12s\tremaining: 11m 45s\n",
      "297:\tlearn: 1.0067081\ttotal: 17m 16s\tremaining: 11m 42s\n",
      "298:\tlearn: 1.0057845\ttotal: 17m 19s\tremaining: 11m 38s\n",
      "299:\tlearn: 1.0050981\ttotal: 17m 23s\tremaining: 11m 35s\n",
      "300:\tlearn: 1.0044709\ttotal: 17m 26s\tremaining: 11m 32s\n",
      "301:\tlearn: 1.0039118\ttotal: 17m 30s\tremaining: 11m 28s\n",
      "302:\tlearn: 1.0029551\ttotal: 17m 33s\tremaining: 11m 25s\n",
      "303:\tlearn: 1.0025199\ttotal: 17m 37s\tremaining: 11m 21s\n",
      "304:\tlearn: 1.0017302\ttotal: 17m 40s\tremaining: 11m 18s\n",
      "305:\tlearn: 1.0007863\ttotal: 17m 43s\tremaining: 11m 14s\n",
      "306:\tlearn: 1.0000247\ttotal: 17m 47s\tremaining: 11m 11s\n",
      "307:\tlearn: 0.9995265\ttotal: 17m 50s\tremaining: 11m 7s\n",
      "308:\tlearn: 0.9986537\ttotal: 17m 54s\tremaining: 11m 3s\n",
      "309:\tlearn: 0.9976957\ttotal: 17m 57s\tremaining: 11m\n",
      "310:\tlearn: 0.9969551\ttotal: 18m 1s\tremaining: 10m 56s\n",
      "311:\tlearn: 0.9961667\ttotal: 18m 4s\tremaining: 10m 53s\n",
      "312:\tlearn: 0.9956632\ttotal: 18m 7s\tremaining: 10m 49s\n",
      "313:\tlearn: 0.9950731\ttotal: 18m 11s\tremaining: 10m 46s\n",
      "314:\tlearn: 0.9944680\ttotal: 18m 14s\tremaining: 10m 42s\n",
      "315:\tlearn: 0.9938453\ttotal: 18m 18s\tremaining: 10m 39s\n",
      "316:\tlearn: 0.9931841\ttotal: 18m 21s\tremaining: 10m 35s\n",
      "317:\tlearn: 0.9923697\ttotal: 18m 24s\tremaining: 10m 32s\n",
      "318:\tlearn: 0.9915812\ttotal: 18m 28s\tremaining: 10m 28s\n",
      "319:\tlearn: 0.9911656\ttotal: 18m 31s\tremaining: 10m 25s\n",
      "320:\tlearn: 0.9901953\ttotal: 18m 35s\tremaining: 10m 21s\n",
      "321:\tlearn: 0.9890475\ttotal: 18m 38s\tremaining: 10m 18s\n",
      "322:\tlearn: 0.9882852\ttotal: 18m 42s\tremaining: 10m 15s\n",
      "323:\tlearn: 0.9878438\ttotal: 18m 45s\tremaining: 10m 11s\n",
      "324:\tlearn: 0.9874122\ttotal: 18m 49s\tremaining: 10m 7s\n",
      "325:\tlearn: 0.9867264\ttotal: 18m 52s\tremaining: 10m 4s\n",
      "326:\tlearn: 0.9860770\ttotal: 18m 55s\tremaining: 10m\n",
      "327:\tlearn: 0.9854444\ttotal: 18m 59s\tremaining: 9m 57s\n",
      "328:\tlearn: 0.9850272\ttotal: 19m 2s\tremaining: 9m 53s\n",
      "329:\tlearn: 0.9844467\ttotal: 19m 6s\tremaining: 9m 50s\n",
      "330:\tlearn: 0.9837700\ttotal: 19m 9s\tremaining: 9m 47s\n",
      "331:\tlearn: 0.9831942\ttotal: 19m 13s\tremaining: 9m 43s\n",
      "332:\tlearn: 0.9822890\ttotal: 19m 16s\tremaining: 9m 40s\n",
      "333:\tlearn: 0.9813828\ttotal: 19m 19s\tremaining: 9m 36s\n",
      "334:\tlearn: 0.9805650\ttotal: 19m 23s\tremaining: 9m 33s\n",
      "335:\tlearn: 0.9802081\ttotal: 19m 27s\tremaining: 9m 29s\n",
      "336:\tlearn: 0.9796074\ttotal: 19m 30s\tremaining: 9m 26s\n",
      "337:\tlearn: 0.9787046\ttotal: 19m 34s\tremaining: 9m 22s\n",
      "338:\tlearn: 0.9782722\ttotal: 19m 37s\tremaining: 9m 19s\n",
      "339:\tlearn: 0.9775217\ttotal: 19m 41s\tremaining: 9m 15s\n",
      "340:\tlearn: 0.9767250\ttotal: 19m 44s\tremaining: 9m 12s\n",
      "341:\tlearn: 0.9760318\ttotal: 19m 48s\tremaining: 9m 9s\n",
      "342:\tlearn: 0.9752680\ttotal: 19m 51s\tremaining: 9m 5s\n",
      "343:\tlearn: 0.9747633\ttotal: 19m 55s\tremaining: 9m 2s\n",
      "344:\tlearn: 0.9742853\ttotal: 19m 58s\tremaining: 8m 58s\n",
      "345:\tlearn: 0.9735809\ttotal: 20m 2s\tremaining: 8m 55s\n",
      "346:\tlearn: 0.9730161\ttotal: 20m 5s\tremaining: 8m 51s\n",
      "347:\tlearn: 0.9722088\ttotal: 20m 9s\tremaining: 8m 48s\n",
      "348:\tlearn: 0.9716269\ttotal: 20m 12s\tremaining: 8m 44s\n",
      "349:\tlearn: 0.9705128\ttotal: 20m 15s\tremaining: 8m 41s\n",
      "350:\tlearn: 0.9701146\ttotal: 20m 19s\tremaining: 8m 37s\n",
      "351:\tlearn: 0.9691891\ttotal: 20m 22s\tremaining: 8m 34s\n",
      "352:\tlearn: 0.9675629\ttotal: 20m 26s\tremaining: 8m 30s\n",
      "353:\tlearn: 0.9670552\ttotal: 20m 29s\tremaining: 8m 27s\n",
      "354:\tlearn: 0.9666627\ttotal: 20m 33s\tremaining: 8m 23s\n",
      "355:\tlearn: 0.9660375\ttotal: 20m 36s\tremaining: 8m 20s\n",
      "356:\tlearn: 0.9655436\ttotal: 20m 39s\tremaining: 8m 16s\n",
      "357:\tlearn: 0.9650136\ttotal: 20m 43s\tremaining: 8m 13s\n",
      "358:\tlearn: 0.9645171\ttotal: 20m 46s\tremaining: 8m 9s\n",
      "359:\tlearn: 0.9641033\ttotal: 20m 50s\tremaining: 8m 6s\n",
      "360:\tlearn: 0.9634480\ttotal: 20m 53s\tremaining: 8m 2s\n",
      "361:\tlearn: 0.9628627\ttotal: 20m 57s\tremaining: 7m 59s\n",
      "362:\tlearn: 0.9625574\ttotal: 21m\tremaining: 7m 55s\n",
      "363:\tlearn: 0.9619605\ttotal: 21m 3s\tremaining: 7m 52s\n",
      "364:\tlearn: 0.9614698\ttotal: 21m 7s\tremaining: 7m 48s\n",
      "365:\tlearn: 0.9609968\ttotal: 21m 10s\tremaining: 7m 45s\n",
      "366:\tlearn: 0.9605920\ttotal: 21m 14s\tremaining: 7m 41s\n",
      "367:\tlearn: 0.9601229\ttotal: 21m 17s\tremaining: 7m 38s\n",
      "368:\tlearn: 0.9595871\ttotal: 21m 21s\tremaining: 7m 34s\n",
      "369:\tlearn: 0.9591550\ttotal: 21m 24s\tremaining: 7m 31s\n",
      "370:\tlearn: 0.9582779\ttotal: 21m 28s\tremaining: 7m 27s\n",
      "371:\tlearn: 0.9578496\ttotal: 21m 31s\tremaining: 7m 24s\n",
      "372:\tlearn: 0.9572800\ttotal: 21m 35s\tremaining: 7m 20s\n",
      "373:\tlearn: 0.9567405\ttotal: 21m 38s\tremaining: 7m 17s\n",
      "374:\tlearn: 0.9561841\ttotal: 21m 42s\tremaining: 7m 14s\n",
      "375:\tlearn: 0.9556646\ttotal: 21m 45s\tremaining: 7m 10s\n",
      "376:\tlearn: 0.9551209\ttotal: 21m 49s\tremaining: 7m 7s\n",
      "377:\tlearn: 0.9544661\ttotal: 21m 52s\tremaining: 7m 3s\n",
      "378:\tlearn: 0.9530814\ttotal: 21m 56s\tremaining: 7m\n",
      "379:\tlearn: 0.9525673\ttotal: 21m 59s\tremaining: 6m 56s\n",
      "380:\tlearn: 0.9521508\ttotal: 22m 3s\tremaining: 6m 53s\n",
      "381:\tlearn: 0.9515471\ttotal: 22m 6s\tremaining: 6m 49s\n",
      "382:\tlearn: 0.9511017\ttotal: 22m 10s\tremaining: 6m 46s\n",
      "383:\tlearn: 0.9506156\ttotal: 22m 13s\tremaining: 6m 42s\n",
      "384:\tlearn: 0.9496914\ttotal: 22m 17s\tremaining: 6m 39s\n",
      "385:\tlearn: 0.9492787\ttotal: 22m 20s\tremaining: 6m 35s\n",
      "386:\tlearn: 0.9487366\ttotal: 22m 24s\tremaining: 6m 32s\n",
      "387:\tlearn: 0.9481321\ttotal: 22m 27s\tremaining: 6m 29s\n",
      "388:\tlearn: 0.9476203\ttotal: 22m 31s\tremaining: 6m 25s\n",
      "389:\tlearn: 0.9473183\ttotal: 22m 34s\tremaining: 6m 22s\n",
      "390:\tlearn: 0.9468820\ttotal: 22m 38s\tremaining: 6m 18s\n",
      "391:\tlearn: 0.9464748\ttotal: 22m 41s\tremaining: 6m 15s\n",
      "392:\tlearn: 0.9458328\ttotal: 22m 45s\tremaining: 6m 11s\n",
      "393:\tlearn: 0.9453493\ttotal: 22m 48s\tremaining: 6m 8s\n",
      "394:\tlearn: 0.9447662\ttotal: 22m 52s\tremaining: 6m 4s\n",
      "395:\tlearn: 0.9441839\ttotal: 22m 55s\tremaining: 6m 1s\n",
      "396:\tlearn: 0.9435933\ttotal: 22m 59s\tremaining: 5m 57s\n",
      "397:\tlearn: 0.9426617\ttotal: 23m 3s\tremaining: 5m 54s\n",
      "398:\tlearn: 0.9422430\ttotal: 23m 6s\tremaining: 5m 50s\n",
      "399:\tlearn: 0.9417071\ttotal: 23m 10s\tremaining: 5m 47s\n",
      "400:\tlearn: 0.9412325\ttotal: 23m 13s\tremaining: 5m 44s\n",
      "401:\tlearn: 0.9405434\ttotal: 23m 17s\tremaining: 5m 40s\n",
      "402:\tlearn: 0.9398913\ttotal: 23m 20s\tremaining: 5m 37s\n",
      "403:\tlearn: 0.9392861\ttotal: 23m 24s\tremaining: 5m 33s\n",
      "404:\tlearn: 0.9389498\ttotal: 23m 27s\tremaining: 5m 30s\n",
      "405:\tlearn: 0.9384741\ttotal: 23m 31s\tremaining: 5m 26s\n",
      "406:\tlearn: 0.9378847\ttotal: 23m 35s\tremaining: 5m 23s\n",
      "407:\tlearn: 0.9371787\ttotal: 23m 38s\tremaining: 5m 19s\n",
      "408:\tlearn: 0.9368598\ttotal: 23m 42s\tremaining: 5m 16s\n",
      "409:\tlearn: 0.9360013\ttotal: 23m 45s\tremaining: 5m 12s\n",
      "410:\tlearn: 0.9355205\ttotal: 23m 49s\tremaining: 5m 9s\n",
      "411:\tlearn: 0.9349695\ttotal: 23m 52s\tremaining: 5m 6s\n",
      "412:\tlearn: 0.9343229\ttotal: 23m 56s\tremaining: 5m 2s\n",
      "413:\tlearn: 0.9337869\ttotal: 23m 59s\tremaining: 4m 59s\n",
      "414:\tlearn: 0.9333417\ttotal: 24m 3s\tremaining: 4m 55s\n",
      "415:\tlearn: 0.9329173\ttotal: 24m 6s\tremaining: 4m 52s\n",
      "416:\tlearn: 0.9326509\ttotal: 24m 10s\tremaining: 4m 48s\n",
      "417:\tlearn: 0.9323468\ttotal: 24m 13s\tremaining: 4m 45s\n",
      "418:\tlearn: 0.9316408\ttotal: 24m 17s\tremaining: 4m 41s\n",
      "419:\tlearn: 0.9309097\ttotal: 24m 21s\tremaining: 4m 38s\n",
      "420:\tlearn: 0.9305732\ttotal: 24m 24s\tremaining: 4m 34s\n",
      "421:\tlearn: 0.9301932\ttotal: 24m 28s\tremaining: 4m 31s\n",
      "422:\tlearn: 0.9297267\ttotal: 24m 31s\tremaining: 4m 27s\n",
      "423:\tlearn: 0.9292775\ttotal: 24m 35s\tremaining: 4m 24s\n",
      "424:\tlearn: 0.9281737\ttotal: 24m 38s\tremaining: 4m 20s\n",
      "425:\tlearn: 0.9276491\ttotal: 24m 42s\tremaining: 4m 17s\n",
      "426:\tlearn: 0.9273829\ttotal: 24m 45s\tremaining: 4m 14s\n",
      "427:\tlearn: 0.9270998\ttotal: 24m 49s\tremaining: 4m 10s\n",
      "428:\tlearn: 0.9268540\ttotal: 24m 52s\tremaining: 4m 7s\n",
      "429:\tlearn: 0.9262016\ttotal: 24m 56s\tremaining: 4m 3s\n",
      "430:\tlearn: 0.9257495\ttotal: 24m 59s\tremaining: 4m\n",
      "431:\tlearn: 0.9248972\ttotal: 25m 3s\tremaining: 3m 56s\n",
      "432:\tlearn: 0.9245348\ttotal: 25m 7s\tremaining: 3m 53s\n",
      "433:\tlearn: 0.9239001\ttotal: 25m 10s\tremaining: 3m 49s\n",
      "434:\tlearn: 0.9235746\ttotal: 25m 14s\tremaining: 3m 46s\n",
      "435:\tlearn: 0.9230754\ttotal: 25m 17s\tremaining: 3m 42s\n",
      "436:\tlearn: 0.9225601\ttotal: 25m 21s\tremaining: 3m 39s\n",
      "437:\tlearn: 0.9221974\ttotal: 25m 24s\tremaining: 3m 35s\n",
      "438:\tlearn: 0.9217029\ttotal: 25m 28s\tremaining: 3m 32s\n",
      "439:\tlearn: 0.9213686\ttotal: 25m 31s\tremaining: 3m 28s\n",
      "440:\tlearn: 0.9209589\ttotal: 25m 35s\tremaining: 3m 25s\n",
      "441:\tlearn: 0.9207010\ttotal: 25m 38s\tremaining: 3m 21s\n",
      "442:\tlearn: 0.9202366\ttotal: 25m 42s\tremaining: 3m 18s\n",
      "443:\tlearn: 0.9197434\ttotal: 25m 46s\tremaining: 3m 14s\n",
      "444:\tlearn: 0.9191765\ttotal: 25m 49s\tremaining: 3m 11s\n",
      "445:\tlearn: 0.9186516\ttotal: 25m 53s\tremaining: 3m 8s\n",
      "446:\tlearn: 0.9181110\ttotal: 25m 56s\tremaining: 3m 4s\n",
      "447:\tlearn: 0.9176798\ttotal: 26m\tremaining: 3m 1s\n",
      "448:\tlearn: 0.9172548\ttotal: 26m 3s\tremaining: 2m 57s\n",
      "449:\tlearn: 0.9169048\ttotal: 26m 7s\tremaining: 2m 54s\n",
      "450:\tlearn: 0.9165123\ttotal: 26m 10s\tremaining: 2m 50s\n",
      "451:\tlearn: 0.9160293\ttotal: 26m 14s\tremaining: 2m 47s\n",
      "452:\tlearn: 0.9156588\ttotal: 26m 17s\tremaining: 2m 43s\n",
      "453:\tlearn: 0.9153688\ttotal: 26m 21s\tremaining: 2m 40s\n",
      "454:\tlearn: 0.9148799\ttotal: 26m 24s\tremaining: 2m 36s\n",
      "455:\tlearn: 0.9143388\ttotal: 26m 28s\tremaining: 2m 33s\n",
      "456:\tlearn: 0.9139365\ttotal: 26m 32s\tremaining: 2m 29s\n",
      "457:\tlearn: 0.9134891\ttotal: 26m 35s\tremaining: 2m 26s\n",
      "458:\tlearn: 0.9131584\ttotal: 26m 39s\tremaining: 2m 22s\n",
      "459:\tlearn: 0.9128339\ttotal: 26m 42s\tremaining: 2m 19s\n",
      "460:\tlearn: 0.9125917\ttotal: 26m 46s\tremaining: 2m 15s\n",
      "461:\tlearn: 0.9122394\ttotal: 26m 49s\tremaining: 2m 12s\n",
      "462:\tlearn: 0.9119379\ttotal: 26m 53s\tremaining: 2m 8s\n",
      "463:\tlearn: 0.9115799\ttotal: 26m 56s\tremaining: 2m 5s\n",
      "464:\tlearn: 0.9112934\ttotal: 27m\tremaining: 2m 1s\n",
      "465:\tlearn: 0.9106672\ttotal: 27m 4s\tremaining: 1m 58s\n",
      "466:\tlearn: 0.9101272\ttotal: 27m 7s\tremaining: 1m 55s\n",
      "467:\tlearn: 0.9098791\ttotal: 27m 11s\tremaining: 1m 51s\n",
      "468:\tlearn: 0.9094569\ttotal: 27m 14s\tremaining: 1m 48s\n",
      "469:\tlearn: 0.9089025\ttotal: 27m 18s\tremaining: 1m 44s\n",
      "470:\tlearn: 0.9083605\ttotal: 27m 21s\tremaining: 1m 41s\n",
      "471:\tlearn: 0.9079852\ttotal: 27m 25s\tremaining: 1m 37s\n",
      "472:\tlearn: 0.9075584\ttotal: 27m 29s\tremaining: 1m 34s\n",
      "473:\tlearn: 0.9070132\ttotal: 27m 32s\tremaining: 1m 30s\n",
      "474:\tlearn: 0.9065160\ttotal: 27m 36s\tremaining: 1m 27s\n",
      "475:\tlearn: 0.9061651\ttotal: 27m 39s\tremaining: 1m 23s\n",
      "476:\tlearn: 0.9057524\ttotal: 27m 43s\tremaining: 1m 20s\n",
      "477:\tlearn: 0.9054355\ttotal: 27m 46s\tremaining: 1m 16s\n",
      "478:\tlearn: 0.9051552\ttotal: 27m 50s\tremaining: 1m 13s\n",
      "479:\tlearn: 0.9046669\ttotal: 27m 53s\tremaining: 1m 9s\n",
      "480:\tlearn: 0.9042652\ttotal: 27m 57s\tremaining: 1m 6s\n",
      "481:\tlearn: 0.9038926\ttotal: 28m 1s\tremaining: 1m 2s\n",
      "482:\tlearn: 0.9035036\ttotal: 28m 4s\tremaining: 59.3s\n",
      "483:\tlearn: 0.9030792\ttotal: 28m 8s\tremaining: 55.8s\n",
      "484:\tlearn: 0.9027060\ttotal: 28m 11s\tremaining: 52.3s\n",
      "485:\tlearn: 0.9022066\ttotal: 28m 15s\tremaining: 48.8s\n",
      "486:\tlearn: 0.9018123\ttotal: 28m 18s\tremaining: 45.3s\n",
      "487:\tlearn: 0.9015191\ttotal: 28m 22s\tremaining: 41.9s\n",
      "488:\tlearn: 0.9013090\ttotal: 28m 26s\tremaining: 38.4s\n",
      "489:\tlearn: 0.9010026\ttotal: 28m 29s\tremaining: 34.9s\n",
      "490:\tlearn: 0.9007344\ttotal: 28m 33s\tremaining: 31.4s\n",
      "491:\tlearn: 0.9003972\ttotal: 28m 37s\tremaining: 27.9s\n",
      "492:\tlearn: 0.8999369\ttotal: 28m 40s\tremaining: 24.4s\n",
      "493:\tlearn: 0.8994602\ttotal: 28m 44s\tremaining: 20.9s\n",
      "494:\tlearn: 0.8987481\ttotal: 28m 47s\tremaining: 17.5s\n",
      "495:\tlearn: 0.8983665\ttotal: 28m 51s\tremaining: 14s\n",
      "496:\tlearn: 0.8979179\ttotal: 28m 54s\tremaining: 10.5s\n",
      "497:\tlearn: 0.8973038\ttotal: 28m 58s\tremaining: 6.98s\n",
      "498:\tlearn: 0.8968185\ttotal: 29m 2s\tremaining: 3.49s\n",
      "499:\tlearn: 0.8965187\ttotal: 29m 5s\tremaining: 0us\n",
      "CPU times: total: 5h 40min 47s\n",
      "Wall time: 29min 7s\n"
     ]
    },
    {
     "data": {
      "text/plain": [
       "<catboost.core.CatBoostClassifier at 0x28f0aa9c090>"
      ]
     },
     "execution_count": 222,
     "metadata": {},
     "output_type": "execute_result"
    }
   ],
   "source": [
    "%%time\n",
    "catboost = CatBoostClassifier(depth=3, min_data_in_leaf=1, learning_rate=0.05, iterations=500, verbose=1)# создаем экземпляр класса бустинга\n",
    "catboost.fit(x_train, y_train)\n"
   ]
  },
  {
   "cell_type": "code",
   "execution_count": 223,
   "id": "9a9731da-d9ec-4185-8e13-8bc31ae7bad3",
   "metadata": {},
   "outputs": [
    {
     "name": "stdout",
     "output_type": "stream",
     "text": [
      "Accuracy: 0.7207815275310835\n"
     ]
    }
   ],
   "source": [
    "y_pred = catboost.predict(x_test)\n",
    "\n",
    "# Оценка модели\n",
    "accuracy = accuracy_score(y_test, y_pred)\n",
    "\n",
    "print(\"Accuracy:\", accuracy)\n"
   ]
  },
  {
   "cell_type": "markdown",
   "id": "62b302e2-a4a4-46a5-9a1b-e1955347c76d",
   "metadata": {},
   "source": [
    "# Подход 2\n",
    "## Tfidf + полносвязная нейросеть"
   ]
  },
  {
   "cell_type": "code",
   "execution_count": 210,
   "id": "3e4b0401-0090-41ba-af99-1b4b35426fec",
   "metadata": {},
   "outputs": [],
   "source": [
    "x_train, x_test, y_train, y_test = train_test_split(X,y, test_size=0.2)"
   ]
  },
  {
   "cell_type": "code",
   "execution_count": 211,
   "id": "8ba2d6fe-0432-4451-a3a6-8a108b78d169",
   "metadata": {},
   "outputs": [],
   "source": [
    "dataset = TensorDataset(torch.from_numpy(x_train.toarray()), torch.from_numpy(y_train.to_numpy()))\n",
    "# Создание загрузчика данных\n",
    "dataloader = DataLoader(dataset, batch_size=16)"
   ]
  },
  {
   "cell_type": "code",
   "execution_count": 212,
   "id": "2791bf3b-0154-475a-9002-502a8d835fe6",
   "metadata": {},
   "outputs": [
    {
     "data": {
      "text/plain": [
       "Sequential(\n",
       "  (0): Linear(in_features=20000, out_features=200, bias=True)\n",
       "  (1): ReLU()\n",
       "  (2): Linear(in_features=200, out_features=200, bias=True)\n",
       "  (3): ReLU()\n",
       "  (4): Linear(in_features=200, out_features=37, bias=True)\n",
       "  (5): Softmax(dim=None)\n",
       ")"
      ]
     },
     "execution_count": 212,
     "metadata": {},
     "output_type": "execute_result"
    }
   ],
   "source": [
    "# Создание модели\n",
    "model_nn = nn.Sequential(nn.Linear(20000, 200), nn.ReLU(), nn.Linear(200, 200), nn.ReLU(), nn.Linear(200, 37), nn.Softmax())\n",
    "model_nn"
   ]
  },
  {
   "cell_type": "code",
   "execution_count": 213,
   "id": "d5e09e25-f64d-438d-af00-cdba7aede8b1",
   "metadata": {},
   "outputs": [],
   "source": [
    "loss_func = nn.CrossEntropyLoss()# инициализируем функцию потерь и оптимизатор\n",
    "optim = torch.optim.Adam(model_nn.parameters(), lr=0.001)"
   ]
  },
  {
   "cell_type": "code",
   "execution_count": 214,
   "id": "fa5a50bf-71dd-4354-ad9f-ecd95b70251f",
   "metadata": {},
   "outputs": [
    {
     "data": {
      "application/vnd.jupyter.widget-view+json": {
       "model_id": "64e1e2cadfcb4a089b46a7b2f8feb77b",
       "version_major": 2,
       "version_minor": 0
      },
      "text/plain": [
       "  0%|          | 0/2815 [00:00<?, ?it/s]"
      ]
     },
     "metadata": {},
     "output_type": "display_data"
    },
    {
     "name": "stderr",
     "output_type": "stream",
     "text": [
      "C:\\Users\\Александр\\AppData\\Roaming\\Python\\Python311\\site-packages\\torch\\nn\\modules\\module.py:1553: UserWarning: Implicit dimension choice for softmax has been deprecated. Change the call to include dim=X as an argument.\n",
      "  return self._call_impl(*args, **kwargs)\n"
     ]
    },
    {
     "name": "stdout",
     "output_type": "stream",
     "text": [
      "0 epoch finished, accuracy on test = 0.7018650088809947\n"
     ]
    },
    {
     "data": {
      "application/vnd.jupyter.widget-view+json": {
       "model_id": "693bf018132148b0acf5d302eb2392f7",
       "version_major": 2,
       "version_minor": 0
      },
      "text/plain": [
       "  0%|          | 0/2815 [00:00<?, ?it/s]"
      ]
     },
     "metadata": {},
     "output_type": "display_data"
    },
    {
     "name": "stderr",
     "output_type": "stream",
     "text": [
      "C:\\Users\\Александр\\AppData\\Roaming\\Python\\Python311\\site-packages\\torch\\nn\\modules\\module.py:1553: UserWarning: Implicit dimension choice for softmax has been deprecated. Change the call to include dim=X as an argument.\n",
      "  return self._call_impl(*args, **kwargs)\n"
     ]
    },
    {
     "name": "stdout",
     "output_type": "stream",
     "text": [
      "1 epoch finished, accuracy on test = 0.7011545293072824\n"
     ]
    },
    {
     "data": {
      "application/vnd.jupyter.widget-view+json": {
       "model_id": "a88a09be8b544d59b154df892e0fd276",
       "version_major": 2,
       "version_minor": 0
      },
      "text/plain": [
       "  0%|          | 0/2815 [00:00<?, ?it/s]"
      ]
     },
     "metadata": {},
     "output_type": "display_data"
    },
    {
     "name": "stderr",
     "output_type": "stream",
     "text": [
      "C:\\Users\\Александр\\AppData\\Roaming\\Python\\Python311\\site-packages\\torch\\nn\\modules\\module.py:1553: UserWarning: Implicit dimension choice for softmax has been deprecated. Change the call to include dim=X as an argument.\n",
      "  return self._call_impl(*args, **kwargs)\n"
     ]
    },
    {
     "name": "stdout",
     "output_type": "stream",
     "text": [
      "2 epoch finished, accuracy on test = 0.7018650088809947\n"
     ]
    },
    {
     "data": {
      "application/vnd.jupyter.widget-view+json": {
       "model_id": "db321f6b5dd54a82a60b5c725e666735",
       "version_major": 2,
       "version_minor": 0
      },
      "text/plain": [
       "  0%|          | 0/2815 [00:00<?, ?it/s]"
      ]
     },
     "metadata": {},
     "output_type": "display_data"
    },
    {
     "name": "stderr",
     "output_type": "stream",
     "text": [
      "C:\\Users\\Александр\\AppData\\Roaming\\Python\\Python311\\site-packages\\torch\\nn\\modules\\module.py:1553: UserWarning: Implicit dimension choice for softmax has been deprecated. Change the call to include dim=X as an argument.\n",
      "  return self._call_impl(*args, **kwargs)\n"
     ]
    },
    {
     "name": "stdout",
     "output_type": "stream",
     "text": [
      "3 epoch finished, accuracy on test = 0.713854351687389\n"
     ]
    },
    {
     "data": {
      "application/vnd.jupyter.widget-view+json": {
       "model_id": "ba3717912d824407a57c4f64c387a84d",
       "version_major": 2,
       "version_minor": 0
      },
      "text/plain": [
       "  0%|          | 0/2815 [00:00<?, ?it/s]"
      ]
     },
     "metadata": {},
     "output_type": "display_data"
    },
    {
     "name": "stderr",
     "output_type": "stream",
     "text": [
      "C:\\Users\\Александр\\AppData\\Roaming\\Python\\Python311\\site-packages\\torch\\nn\\modules\\module.py:1553: UserWarning: Implicit dimension choice for softmax has been deprecated. Change the call to include dim=X as an argument.\n",
      "  return self._call_impl(*args, **kwargs)\n"
     ]
    },
    {
     "name": "stdout",
     "output_type": "stream",
     "text": [
      "4 epoch finished, accuracy on test = 0.7199822380106572\n"
     ]
    },
    {
     "data": {
      "application/vnd.jupyter.widget-view+json": {
       "model_id": "1220785f7311472aac30db4ae9e891ed",
       "version_major": 2,
       "version_minor": 0
      },
      "text/plain": [
       "  0%|          | 0/2815 [00:00<?, ?it/s]"
      ]
     },
     "metadata": {},
     "output_type": "display_data"
    },
    {
     "name": "stderr",
     "output_type": "stream",
     "text": [
      "C:\\Users\\Александр\\AppData\\Roaming\\Python\\Python311\\site-packages\\torch\\nn\\modules\\module.py:1553: UserWarning: Implicit dimension choice for softmax has been deprecated. Change the call to include dim=X as an argument.\n",
      "  return self._call_impl(*args, **kwargs)\n"
     ]
    },
    {
     "name": "stdout",
     "output_type": "stream",
     "text": [
      "5 epoch finished, accuracy on test = 0.7511545293072824\n"
     ]
    },
    {
     "data": {
      "application/vnd.jupyter.widget-view+json": {
       "model_id": "abebef02d2b84351a97ccb8238d6749d",
       "version_major": 2,
       "version_minor": 0
      },
      "text/plain": [
       "  0%|          | 0/2815 [00:00<?, ?it/s]"
      ]
     },
     "metadata": {},
     "output_type": "display_data"
    },
    {
     "name": "stderr",
     "output_type": "stream",
     "text": [
      "C:\\Users\\Александр\\AppData\\Roaming\\Python\\Python311\\site-packages\\torch\\nn\\modules\\module.py:1553: UserWarning: Implicit dimension choice for softmax has been deprecated. Change the call to include dim=X as an argument.\n",
      "  return self._call_impl(*args, **kwargs)\n"
     ]
    },
    {
     "name": "stdout",
     "output_type": "stream",
     "text": [
      "6 epoch finished, accuracy on test = 0.7548845470692718\n"
     ]
    },
    {
     "data": {
      "application/vnd.jupyter.widget-view+json": {
       "model_id": "64867c3281ea4f4392c2e1c60092b259",
       "version_major": 2,
       "version_minor": 0
      },
      "text/plain": [
       "  0%|          | 0/2815 [00:00<?, ?it/s]"
      ]
     },
     "metadata": {},
     "output_type": "display_data"
    },
    {
     "name": "stderr",
     "output_type": "stream",
     "text": [
      "C:\\Users\\Александр\\AppData\\Roaming\\Python\\Python311\\site-packages\\torch\\nn\\modules\\module.py:1553: UserWarning: Implicit dimension choice for softmax has been deprecated. Change the call to include dim=X as an argument.\n",
      "  return self._call_impl(*args, **kwargs)\n"
     ]
    },
    {
     "name": "stdout",
     "output_type": "stream",
     "text": [
      "7 epoch finished, accuracy on test = 0.7576376554174068\n"
     ]
    },
    {
     "data": {
      "application/vnd.jupyter.widget-view+json": {
       "model_id": "c4d6d908255b48bdb48ecd80b1bf7daf",
       "version_major": 2,
       "version_minor": 0
      },
      "text/plain": [
       "  0%|          | 0/2815 [00:00<?, ?it/s]"
      ]
     },
     "metadata": {},
     "output_type": "display_data"
    },
    {
     "name": "stderr",
     "output_type": "stream",
     "text": [
      "C:\\Users\\Александр\\AppData\\Roaming\\Python\\Python311\\site-packages\\torch\\nn\\modules\\module.py:1553: UserWarning: Implicit dimension choice for softmax has been deprecated. Change the call to include dim=X as an argument.\n",
      "  return self._call_impl(*args, **kwargs)\n"
     ]
    },
    {
     "name": "stdout",
     "output_type": "stream",
     "text": [
      "8 epoch finished, accuracy on test = 0.7579928952042628\n"
     ]
    },
    {
     "data": {
      "application/vnd.jupyter.widget-view+json": {
       "model_id": "15202cb3c95744258c3d641a530f1a9e",
       "version_major": 2,
       "version_minor": 0
      },
      "text/plain": [
       "  0%|          | 0/2815 [00:00<?, ?it/s]"
      ]
     },
     "metadata": {},
     "output_type": "display_data"
    },
    {
     "name": "stderr",
     "output_type": "stream",
     "text": [
      "C:\\Users\\Александр\\AppData\\Roaming\\Python\\Python311\\site-packages\\torch\\nn\\modules\\module.py:1553: UserWarning: Implicit dimension choice for softmax has been deprecated. Change the call to include dim=X as an argument.\n",
      "  return self._call_impl(*args, **kwargs)\n"
     ]
    },
    {
     "name": "stdout",
     "output_type": "stream",
     "text": [
      "9 epoch finished, accuracy on test = 0.7559502664298401\n",
      "CPU times: total: 1h 19s\n",
      "Wall time: 10min 5s\n"
     ]
    }
   ],
   "source": [
    "%%time \n",
    "# обычный train-loop\n",
    "acc= []\n",
    "for epoch in range(10):\n",
    "    for x_tr, y_tr in tqdm(dataloader):# для каждой эпохи проходимся по всему датасету \n",
    "        y_pred = model_nn(x_tr.float())# считаем предсказания модели\n",
    "        loss = loss_func(y_pred, y_tr.float())# считаем ошибку\n",
    "        loss.backward()\n",
    "        optim.step()# шаг оптимизатора\n",
    "        optim.zero_grad()# обновляем градиенты\n",
    "    y_pred_t = model_nn(torch.from_numpy(x_test.toarray()).float())\n",
    "    y_pred_i= (y_pred_t >= 0.5).int()\n",
    "    acc.append(accuracy_score(y_test, y_pred_i))#считаем accuracy на тесте для каждой эпохи\n",
    "    print(epoch, \"epoch finished, accuracy on test =\", accuracy_score(y_test, y_pred_i))\n",
    "\n",
    "\n"
   ]
  },
  {
   "cell_type": "markdown",
   "id": "3d73dbdb-5cf1-489a-a598-c3da2b425066",
   "metadata": {},
   "source": [
    "# Подход 3\n",
    "## Embedding с рекурентными и сверточными нейронными сетями\n"
   ]
  },
  {
   "cell_type": "code",
   "execution_count": 192,
   "id": "6b72a73a-ccee-4251-964a-eebb7c11de46",
   "metadata": {},
   "outputs": [],
   "source": [
    "class NewsDataset(Dataset):\n",
    "    def __init__(self, texts, labels, vocab, max_length):\n",
    "        self.texts = texts\n",
    "        self.labels = labels\n",
    "        self.vocab = vocab\n",
    "        self.max_length = max_length\n",
    "\n",
    "    def __len__(self):\n",
    "        return len(self.texts)\n",
    "\n",
    "    def __getitem__(self, idx):\n",
    "        text = self.texts[idx]\n",
    "        tokens = [self.vocab.get(word, self.vocab['<UNK>']) for word in text.split()]\n",
    "        tokens = tokens[:self.max_length] # Truncation\n",
    "        tokens = torch.tensor(tokens)\n",
    "        padded_tokens = torch.zeros(self.max_length, dtype=torch.long) # Padding\n",
    "        padded_tokens[:len(tokens)] = tokens\n",
    "        label = self.labels[idx]\n",
    "        return padded_tokens, torch.tensor(label)"
   ]
  },
  {
   "cell_type": "code",
   "execution_count": 193,
   "id": "2e24e915-bcf7-4fe3-a618-01df2b76aef1",
   "metadata": {},
   "outputs": [],
   "source": [
    "def create_vocab(texts, max_size=10000):\n",
    "    vocab = collections.Counter()# используем Counter чтобы иметь функционал словаря и most_common\n",
    "    for text in texts:\n",
    "        for word in text.split():\n",
    "            vocab[word] += 1# считаем сколько раз встречается каждое слово\n",
    "    vocab = vocab.most_common(max_size)# берем только max_size самых популярных\n",
    "    vocab = {word: index+1 for index, (word, count) in enumerate(vocab)}# нумеруем начиная с 1, так как 0 для паддинга\n",
    "    vocab[\"<UNK>\"] = len(vocab)+1\n",
    "    vocab[\"<PAD>\"] = 0\n",
    "    return vocab"
   ]
  },
  {
   "cell_type": "code",
   "execution_count": 194,
   "id": "9c62b0f2-e971-4926-aeb8-3def4ccf8a94",
   "metadata": {},
   "outputs": [],
   "source": [
    "def create_vocab(texts, max_size=10000):\n",
    "    vocab = collections.Counter()\n",
    "    for text in texts:\n",
    "        for word in text.split():\n",
    "            vocab[word] += 1\n",
    "    vocab = vocab.most_common(max_size)\n",
    "    vocab = {word: index for index, (word, count) in enumerate(vocab)}\n",
    "    vocab[\"<UNK>\"] = len(vocab)\n",
    "    vocab[\"<PAD>\"] = len(vocab) + 1\n",
    "    return vocab"
   ]
  },
  {
   "cell_type": "code",
   "execution_count": 195,
   "id": "256c4e4a-41a5-4627-b781-44e1856f9d8b",
   "metadata": {},
   "outputs": [],
   "source": [
    "class NewsClassifier(nn.Module):# определяем нашу модель\n",
    "    def __init__(self, vocab_size, embedding_dim, dense_size):\n",
    "        super(NewsClassifier, self).__init__()\n",
    "        self.embedding = nn.Embedding(vocab_size, embedding_dim)\n",
    "        self.dropout1 = nn.Dropout(0.2)\n",
    "        self.conv1d = nn.Conv1d(embedding_dim, 32, kernel_size=3)\n",
    "        self.maxpool = nn.MaxPool1d(kernel_size=3)\n",
    "        self.lstm = nn.LSTM(32, 100)\n",
    "        self.dropout2 = nn.Dropout(0.2)\n",
    "        self.dense1 = nn.Linear(100, dense_size)\n",
    "        self.dense2 = nn.Linear(dense_size, 37)\n",
    "\n",
    "    def forward(self, x):\n",
    "        x = self.embedding(x)\n",
    "        x = x.permute(0, 2, 1) #(batch_size, seq_len, embedding_dim) -> (batch_size, embedding_dim, seq_len) для сверточной части\n",
    "        x = self.dropout1(x)\n",
    "        x = self.conv1d(x)\n",
    "        x = self.maxpool(x)\n",
    "        x, _ = self.lstm(x.permute(2, 0, 1)) # (seq_len, batch_size, hidden_size) для рекурентной части\n",
    "        x = self.dropout2(x[-1])\n",
    "        x = self.dense1(x)\n",
    "        x = self.dense2(x)\n",
    "        return x"
   ]
  },
  {
   "cell_type": "code",
   "execution_count": 196,
   "id": "c61bef39-7a45-497f-b003-4fd37203405b",
   "metadata": {},
   "outputs": [],
   "source": [
    "vocab = create_vocab(x, 20000)# создаем словарь из 20000 самых популярных слов в новостях\n",
    "x_train, x_test, y_train, y_test = train_test_split(x, y, test_size=0.1)"
   ]
  },
  {
   "cell_type": "code",
   "execution_count": 197,
   "id": "c0ecf839-c77f-4fbe-877d-616dae22b55e",
   "metadata": {},
   "outputs": [],
   "source": [
    "X = x.to_list()\n",
    "Y = y.to_numpy().astype('float')\n",
    "\n",
    "vocab = create_vocab(x, 20000)\n",
    "x_train, x_test, y_train, y_test = train_test_split(X, Y, test_size=0.1)\n"
   ]
  },
  {
   "cell_type": "code",
   "execution_count": 198,
   "id": "175d58d1-9d60-4934-a501-39010440bee7",
   "metadata": {},
   "outputs": [],
   "source": [
    "train_dataset = NewsDataset(x_train, y_train, vocab, 500)\n",
    "test_dataset = NewsDataset(x_test, y_test, vocab, 500)\n",
    "# создаем датасеты и даталоадеры\n",
    "train_loader = DataLoader(train_dataset, batch_size=32)\n",
    "test_loader = DataLoader(test_dataset, batch_size=32)"
   ]
  },
  {
   "cell_type": "code",
   "execution_count": 199,
   "id": "c3664faf-51b3-4acc-a070-3ebcdb54ef8f",
   "metadata": {},
   "outputs": [],
   "source": [
    "model = NewsClassifier(len(vocab), 128, 500)# инициализируем модель функцию потерь и опимизатор\n",
    "optim = torch.optim.Adam(model.parameters())\n",
    "loss_func = nn.CrossEntropyLoss()"
   ]
  },
  {
   "cell_type": "code",
   "execution_count": 200,
   "id": "fc033cde-df12-4ec4-af61-1c0cd99a3efd",
   "metadata": {
    "scrolled": true
   },
   "outputs": [
    {
     "data": {
      "application/vnd.jupyter.widget-view+json": {
       "model_id": "f1a1c1e292d541c481e507a4341b66f7",
       "version_major": 2,
       "version_minor": 0
      },
      "text/plain": [
       "  0%|          | 0/1584 [00:00<?, ?it/s]"
      ]
     },
     "metadata": {},
     "output_type": "display_data"
    },
    {
     "name": "stdout",
     "output_type": "stream",
     "text": [
      "0  epoch finished, loss = 1.6227446794509888\n"
     ]
    },
    {
     "data": {
      "application/vnd.jupyter.widget-view+json": {
       "model_id": "daf7507c29ea490493ee5c515b5d2a98",
       "version_major": 2,
       "version_minor": 0
      },
      "text/plain": [
       "  0%|          | 0/1584 [00:00<?, ?it/s]"
      ]
     },
     "metadata": {},
     "output_type": "display_data"
    },
    {
     "name": "stdout",
     "output_type": "stream",
     "text": [
      "1  epoch finished, loss = 0.9579129219055176\n"
     ]
    },
    {
     "data": {
      "application/vnd.jupyter.widget-view+json": {
       "model_id": "347f0566505a44b2b158a072f2197819",
       "version_major": 2,
       "version_minor": 0
      },
      "text/plain": [
       "  0%|          | 0/1584 [00:00<?, ?it/s]"
      ]
     },
     "metadata": {},
     "output_type": "display_data"
    },
    {
     "name": "stdout",
     "output_type": "stream",
     "text": [
      "2  epoch finished, loss = 0.5827446579933167\n"
     ]
    },
    {
     "data": {
      "application/vnd.jupyter.widget-view+json": {
       "model_id": "6711fa5723ef4d5a8dddf91e56692a4b",
       "version_major": 2,
       "version_minor": 0
      },
      "text/plain": [
       "  0%|          | 0/1584 [00:00<?, ?it/s]"
      ]
     },
     "metadata": {},
     "output_type": "display_data"
    },
    {
     "name": "stdout",
     "output_type": "stream",
     "text": [
      "3  epoch finished, loss = 0.4697999656200409\n"
     ]
    },
    {
     "data": {
      "application/vnd.jupyter.widget-view+json": {
       "model_id": "1c585d906fa9410db9d8a18539d1c985",
       "version_major": 2,
       "version_minor": 0
      },
      "text/plain": [
       "  0%|          | 0/1584 [00:00<?, ?it/s]"
      ]
     },
     "metadata": {},
     "output_type": "display_data"
    },
    {
     "name": "stdout",
     "output_type": "stream",
     "text": [
      "4  epoch finished, loss = 0.33261385560035706\n",
      "CPU times: total: 49min 24s\n",
      "Wall time: 8min 16s\n"
     ]
    }
   ],
   "source": [
    "%%time \n",
    "# обычный train-loop\n",
    "for epoch in range(5):\n",
    "    for x_tr, y_tr in tqdm(train_loader):# для каждой эпохи проходимся по всему датасету \n",
    "        optim.zero_grad()# обновляем градиенты\n",
    "\n",
    "        y_pred = model(x_tr.int())# считаем предсказания модели\n",
    "        loss = loss_func(y_pred, y_tr.float())# считаем ошибку\n",
    "        loss.backward()\n",
    "        optim.step()# шаг оптимизатора\n",
    "    print(epoch, \" epoch finished, loss =\",loss.item())"
   ]
  },
  {
   "cell_type": "code",
   "execution_count": 204,
   "id": "20272e3a-efdf-4f71-92fe-b1b45df4e925",
   "metadata": {},
   "outputs": [
    {
     "data": {
      "application/vnd.jupyter.widget-view+json": {
       "model_id": "4eaf7dccd9ff47bab9a8f58108353c57",
       "version_major": 2,
       "version_minor": 0
      },
      "text/plain": [
       "  0%|          | 0/176 [00:00<?, ?it/s]"
      ]
     },
     "metadata": {},
     "output_type": "display_data"
    },
    {
     "name": "stdout",
     "output_type": "stream",
     "text": [
      "Test Accuracy: 0.7655\n"
     ]
    }
   ],
   "source": [
    "# Оценка модели\n",
    "model.eval()\n",
    "test_preds = []# создаем списки, куда будем по батчам записывать предсказания и правильные классы\n",
    "test_labels_list = []\n",
    "\n",
    "with torch.no_grad():\n",
    "    for x_test, y_test in tqdm(test_loader):\n",
    "        outputs = F.one_hot(torch.argmax(model(x_test), 1), 37)# предсказываем и форматируем данные\n",
    "\n",
    "        test_preds.extend(outputs.cpu().numpy())\n",
    "        test_labels_list.extend(y_test.cpu().numpy())\n",
    "    accuracy = accuracy_score(test_labels_list, test_preds)# считаем accuracy сразу на всем тестовом датасете\n",
    "    print(f\"Test Accuracy: {accuracy:.4f}\")"
   ]
  },
  {
   "cell_type": "markdown",
   "id": "510af15e-250c-4d7a-bfdd-f619eb209fad",
   "metadata": {},
   "source": [
    "# Подход 4\n",
    "## Fine-tunning предобученной LLM"
   ]
  },
  {
   "cell_type": "code",
   "execution_count": 30,
   "id": "3ac47196-f22c-4b21-b510-ba312ff15d6f",
   "metadata": {},
   "outputs": [],
   "source": [
    "class NewsDataset(Dataset):# определяем класс датасета\n",
    "    def __init__(self, texts, labels, tokenizer, max_length=128):\n",
    "        self.texts = texts\n",
    "        self.labels = labels\n",
    "        self.tokenizer = tokenizer # сюда передаем токенизатор от ллм которую будем использовать\n",
    "        self.max_length = max_length\n",
    "\n",
    "    def __len__(self):\n",
    "        return len(self.texts)\n",
    "\n",
    "    def __getitem__(self, idx):\n",
    "        text = self.texts[idx]\n",
    "        label = self.labels[idx]\n",
    "\n",
    "        encoded_text = self.tokenizer.encode_plus(\n",
    "            text,\n",
    "            add_special_tokens=True,\n",
    "            max_length=self.max_length,\n",
    "            truncation=True,\n",
    "            padding='max_length', # кодируем и обрезаем до одного разера каждый элемент\n",
    "            return_tensors='pt'\n",
    "        )\n",
    "\n",
    "        return [encoded_text['input_ids'].squeeze(),# возвращаем индексы, таргеты и маску\n",
    "            encoded_text['attention_mask'].squeeze(),\n",
    "            torch.tensor(label)]"
   ]
  },
  {
   "cell_type": "code",
   "execution_count": 31,
   "id": "bf235b85-283a-45d2-b157-5fc00b6ae63c",
   "metadata": {},
   "outputs": [],
   "source": [
    "# определяем класс модели, будем использовать предобученный RuBERT\n",
    "class NewsClassifier(nn.Module):\n",
    "    def __init__(self, num_classes, pretrained_model_name='DeepPavlov/rubert-base-cased'):\n",
    "        super(NewsClassifier, self).__init__()\n",
    "        self.bert = AutoModel.from_pretrained(pretrained_model_name)\n",
    "        self.dropout = nn.Dropout(0.1)\n",
    "        self.classifier = nn.Linear(self.bert.config.hidden_size, num_classes)\n",
    "\n",
    "    def forward(self, input_ids, attention_mask):\n",
    "        outputs = self.bert(input_ids=input_ids, attention_mask=attention_mask)\n",
    "        pooled_output = outputs.pooler_output\n",
    "        dropout_output = self.dropout(pooled_output)\n",
    "        logits = self.classifier(dropout_output)\n",
    "        return logits"
   ]
  },
  {
   "cell_type": "code",
   "execution_count": 32,
   "id": "f3135c61-31f8-461e-b535-ce843962decd",
   "metadata": {},
   "outputs": [
    {
     "name": "stderr",
     "output_type": "stream",
     "text": [
      "C:\\Users\\Александр\\AppData\\Roaming\\Python\\Python311\\site-packages\\transformers\\tokenization_utils_base.py:1601: FutureWarning: `clean_up_tokenization_spaces` was not set. It will be set to `True` by default. This behavior will be depracted in transformers v4.45, and will be then set to `False` by default. For more details check this issue: https://github.com/huggingface/transformers/issues/31884\n",
      "  warnings.warn(\n"
     ]
    }
   ],
   "source": [
    "# токенизатор используем обязательно тоже от RuBERT\n",
    "tokenizer = AutoTokenizer.from_pretrained('DeepPavlov/rubert-base-cased')\n",
    "\n",
    "texts =x.to_list()\n",
    "labels = np.array(y).astype('float')\n",
    "train_texts, test_texts, train_labels, test_labels = train_test_split(\n",
    "    texts, labels, test_size=0.2)\n",
    "train_dataset = NewsDataset(train_texts, train_labels, tokenizer)\n",
    "test_dataset = NewsDataset(test_texts, test_labels, tokenizer)\n",
    "# создаем даатсеты и даталоадеры\n",
    "train_loader = DataLoader(train_dataset, batch_size=16, shuffle=True)\n",
    "test_loader = DataLoader(test_dataset, batch_size=16, shuffle=False)"
   ]
  },
  {
   "cell_type": "code",
   "execution_count": 33,
   "id": "a8ac7bf0-0825-4256-876a-d2e36e53f796",
   "metadata": {},
   "outputs": [
    {
     "name": "stderr",
     "output_type": "stream",
     "text": [
      "Some weights of the model checkpoint at DeepPavlov/rubert-base-cased were not used when initializing BertModel: ['cls.predictions.bias', 'cls.predictions.decoder.bias', 'cls.predictions.decoder.weight', 'cls.predictions.transform.LayerNorm.bias', 'cls.predictions.transform.LayerNorm.weight', 'cls.predictions.transform.dense.bias', 'cls.predictions.transform.dense.weight', 'cls.seq_relationship.bias', 'cls.seq_relationship.weight']\n",
      "- This IS expected if you are initializing BertModel from the checkpoint of a model trained on another task or with another architecture (e.g. initializing a BertForSequenceClassification model from a BertForPreTraining model).\n",
      "- This IS NOT expected if you are initializing BertModel from the checkpoint of a model that you expect to be exactly identical (initializing a BertForSequenceClassification model from a BertForSequenceClassification model).\n"
     ]
    }
   ],
   "source": [
    "#создаем экземпляр нашей модели\n",
    "model = NewsClassifier(num_classes=37)"
   ]
  },
  {
   "cell_type": "code",
   "execution_count": 34,
   "id": "f9934e3c-1d5f-4691-ac39-949ae0a2a12c",
   "metadata": {},
   "outputs": [],
   "source": [
    "optim = torch.optim.AdamW(model.parameters(), lr=2e-5)\n",
    "loss_func = nn.CrossEntropyLoss()"
   ]
  },
  {
   "cell_type": "code",
   "execution_count": 35,
   "id": "b34a6bf3-6eee-4716-8c68-a221daea1a54",
   "metadata": {},
   "outputs": [
    {
     "data": {
      "application/vnd.jupyter.widget-view+json": {
       "model_id": "f39464afe2ce4db5b517d68d35cdd339",
       "version_major": 2,
       "version_minor": 0
      },
      "text/plain": [
       "  0%|          | 0/2815 [00:00<?, ?it/s]"
      ]
     },
     "metadata": {},
     "output_type": "display_data"
    },
    {
     "data": {
      "application/vnd.jupyter.widget-view+json": {
       "model_id": "bc60a5522016489ea982fe5d6a42295e",
       "version_major": 2,
       "version_minor": 0
      },
      "text/plain": [
       "  0%|          | 0/2815 [00:00<?, ?it/s]"
      ]
     },
     "metadata": {},
     "output_type": "display_data"
    },
    {
     "data": {
      "application/vnd.jupyter.widget-view+json": {
       "model_id": "42e7ac98ae0f410bb2dbc70d0fd3922e",
       "version_major": 2,
       "version_minor": 0
      },
      "text/plain": [
       "  0%|          | 0/2815 [00:00<?, ?it/s]"
      ]
     },
     "metadata": {},
     "output_type": "display_data"
    },
    {
     "name": "stdout",
     "output_type": "stream",
     "text": [
      "CPU times: total: 2d 16h 51min 6s\n",
      "Wall time: 10h 49min 1s\n"
     ]
    }
   ],
   "source": [
    "%%time \n",
    "# обычный train-loop\n",
    "for epoch in range(3):\n",
    "    for x_tr, mask, y_tr in tqdm(train_loader):# для каждой эпохи проходимся по всему датасету \n",
    "        y_pred = model(x_tr, mask)# считаем предсказания модели\n",
    "        loss = loss_func(y_pred, y_tr.float())# считаем ошибку\n",
    "        loss.backward()\n",
    "        optim.step()# шаг оптимизатора\n",
    "        optim.zero_grad()# обновляем градиенты"
   ]
  },
  {
   "cell_type": "code",
   "execution_count": 36,
   "id": "c2d96a1e-2f89-4cbe-99a3-1528e9091fd8",
   "metadata": {},
   "outputs": [
    {
     "data": {
      "application/vnd.jupyter.widget-view+json": {
       "model_id": "870afabbe2724060aba2384714668bc6",
       "version_major": 2,
       "version_minor": 0
      },
      "text/plain": [
       "  0%|          | 0/704 [00:00<?, ?it/s]"
      ]
     },
     "metadata": {},
     "output_type": "display_data"
    },
    {
     "name": "stdout",
     "output_type": "stream",
     "text": [
      "Test Accuracy: 0.8037\n"
     ]
    }
   ],
   "source": [
    "# Оценка модели\n",
    "model.eval()\n",
    "test_preds = []# создаем списки, куда будем по батчам записывать предсказания и правильные классы\n",
    "test_labels_list = []\n",
    "\n",
    "with torch.no_grad():\n",
    "    for x_test,mask, y_test in tqdm(test_loader):\n",
    "        outputs = F.one_hot(torch.argmax(model(x_test, mask), 1), 37)# предсказываем и форматируем данные\n",
    "\n",
    "        test_preds.extend(outputs.cpu().numpy())\n",
    "        test_labels_list.extend(y_test.cpu().numpy())\n",
    "    accuracy = accuracy_score(test_labels_list, test_preds)# считаем accuracy сразу на всем тестовом датасете\n",
    "    print(f\"Test Accuracy: {accuracy:.4f}\")"
   ]
  },
  {
   "cell_type": "markdown",
   "id": "331401fe-08d8-4489-8a90-b89ec1e740bd",
   "metadata": {},
   "source": [
    "# Анализ результатов"
   ]
  },
  {
   "cell_type": "markdown",
   "id": "1421425b-3442-430f-9213-c235ab476782",
   "metadata": {},
   "source": [
    "Подход №1: accuracy=0.72, время обучения = 30 минут "
   ]
  },
  {
   "cell_type": "markdown",
   "id": "5a6c5077-69ac-4786-bb77-6cde6c2c72f4",
   "metadata": {},
   "source": [
    "Подход №2: accuracy=0.755, время обучения = 10 минут"
   ]
  },
  {
   "cell_type": "markdown",
   "id": "e20ed88d-c74f-4631-a733-921747ce2bc8",
   "metadata": {},
   "source": [
    "Подход №3: accuracy=0.765, время обучения = 8 минут"
   ]
  },
  {
   "cell_type": "markdown",
   "id": "5924fbda-b857-4d84-9111-30fcd223ff9b",
   "metadata": {},
   "source": [
    "Подход №4: accuracy=0.80, время обучения = 11 часов"
   ]
  },
  {
   "cell_type": "markdown",
   "id": "108104ce-e960-4ba9-8b2a-1fe0fa6b0e85",
   "metadata": {},
   "source": [
    "* Бустинг, хоть и является одним из самых эффективных алгоритмов классического ML показал себя довольно слабо на фоне конкурентов, применять его с Tfidf представлениями новостей не очень эффективно"
   ]
  },
  {
   "cell_type": "markdown",
   "id": "7f7ab6f2-4e2b-48b4-ba32-87b6f451b72d",
   "metadata": {},
   "source": [
    "* Полносвязная сеть показала себя уже лучше, быстрее обучилась и добилась лучших результатов."
   ]
  },
  {
   "cell_type": "markdown",
   "id": "47d6f51e-6ed7-4c3e-bdd5-f255b4445471",
   "metadata": {},
   "source": [
    "* Методы глубокого обучения, а именно рекурентные и сверточные сети показали себя еще немного лучше, они уже были способны как учитывать порядок слов в предложении, так и смысл каждого отдельного слова, но в контексте задачи классификации новостей это не так важно."
   ]
  },
  {
   "cell_type": "markdown",
   "id": "e4d8dac1-b716-430f-91f6-00a97d134d61",
   "metadata": {},
   "source": [
    "* Лучший результат показала дообученная LLM RuBERT, большие языковые модели способны понимать текст на уровне человека и отлично справляются с различными NLP задачами."
   ]
  },
  {
   "cell_type": "markdown",
   "id": "561d2b2d-5127-48a5-a502-553f6f156316",
   "metadata": {},
   "source": [
    "* Однако обучение, хранение и использование LLM требует очень много времени и ресурсов компьютера, что не всегда оправдано. Иногда стандратные ML/DL алгоритмы показывают результаты не сильно хуже, обучаясь гораздо быстрее. "
   ]
  },
  {
   "cell_type": "markdown",
   "id": "36a227e0-3ec8-43a3-9f36-9b65e4cb4332",
   "metadata": {},
   "source": [
    "* Стоит также отметить, что 80% точности это очень хороший результат, так как данные максимально неоднородные. Всего лишь 8/37 классов имели более 1000 экземпляров в составе, а 15/37 классов вообще имели не более 10 примеров, на таких данных модели обучиться совсем не просто."
   ]
  },
  {
   "cell_type": "markdown",
   "id": "6fcb0c38-9e2f-4807-a6a5-5c6da49fc6f5",
   "metadata": {},
   "source": [
    "# Подытожим"
   ]
  },
  {
   "cell_type": "markdown",
   "id": "d158dc3d-a0d6-4a31-bd2b-72ef166a8b8e",
   "metadata": {},
   "source": [
    "* Классические алгоритмы ML справились с классификацией текстов хуже нейронных сетей."
   ]
  },
  {
   "cell_type": "markdown",
   "id": "b5869fe1-51b0-463c-9a08-e9db3fce0f99",
   "metadata": {},
   "source": [
    "* Учитывание порядка слов с помощью RNN и CNN дало незначительный прирост в качестве на уровне погрешности, для этой задачи порядок особо не важен."
   ]
  },
  {
   "cell_type": "markdown",
   "id": "b4788244-a675-4833-9edd-7a226b59cb18",
   "metadata": {},
   "source": [
    "* Если цель получить максимальную точность, нужно использовать LLM, но в таком случае обучение займет много времени."
   ]
  },
  {
   "cell_type": "markdown",
   "id": "e3cd60ef-c237-4088-b5d0-07d140d8ec10",
   "metadata": {},
   "source": [
    "* Оптимальное качество при малом времени обучения показывают нейронные сети."
   ]
  },
  {
   "cell_type": "markdown",
   "id": "b8093fa3-7cb7-4ab3-a6cf-19837e2a3591",
   "metadata": {},
   "source": [
    "* В условиях большого дисбаланса классов и не очень большого датасета модели справились с задачей очень хорошо."
   ]
  },
  {
   "cell_type": "code",
   "execution_count": null,
   "id": "f3497181-112d-4160-996a-5d3da7396c43",
   "metadata": {},
   "outputs": [],
   "source": []
  }
 ],
 "metadata": {
  "kernelspec": {
   "display_name": "Python 3 (ipykernel)",
   "language": "python",
   "name": "python3"
  },
  "language_info": {
   "codemirror_mode": {
    "name": "ipython",
    "version": 3
   },
   "file_extension": ".py",
   "mimetype": "text/x-python",
   "name": "python",
   "nbconvert_exporter": "python",
   "pygments_lexer": "ipython3",
   "version": "3.11.3"
  }
 },
 "nbformat": 4,
 "nbformat_minor": 5
}
